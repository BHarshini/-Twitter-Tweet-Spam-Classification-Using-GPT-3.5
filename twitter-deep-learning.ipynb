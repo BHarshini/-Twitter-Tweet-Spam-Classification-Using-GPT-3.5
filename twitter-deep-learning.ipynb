{
 "cells": [
  {
   "cell_type": "markdown",
   "id": "7adc42f8",
   "metadata": {
    "id": "bThwAMat4_ZI",
    "papermill": {
     "duration": 0.01442,
     "end_time": "2023-12-04T20:25:29.298458",
     "exception": false,
     "start_time": "2023-12-04T20:25:29.284038",
     "status": "completed"
    },
    "tags": []
   },
   "source": [
    "## Importing the Libraries"
   ]
  },
  {
   "cell_type": "code",
   "execution_count": 1,
   "id": "b491c9d3",
   "metadata": {
    "_cell_guid": "b1076dfc-b9ad-4769-8c92-a6c4dae69d19",
    "_uuid": "8f2839f25d086af736a60e9eeb907d3b93b6e0e5",
    "execution": {
     "iopub.execute_input": "2023-12-04T20:25:29.327150Z",
     "iopub.status.busy": "2023-12-04T20:25:29.326782Z",
     "iopub.status.idle": "2023-12-04T20:25:42.569057Z",
     "shell.execute_reply": "2023-12-04T20:25:42.568115Z"
    },
    "id": "2LvTA4Jy4_ZL",
    "papermill": {
     "duration": 13.259174,
     "end_time": "2023-12-04T20:25:42.571412",
     "exception": false,
     "start_time": "2023-12-04T20:25:29.312238",
     "status": "completed"
    },
    "tags": []
   },
   "outputs": [],
   "source": [
    "import numpy as np\n",
    "import pandas as pd\n",
    "import warnings\n",
    "warnings.filterwarnings(\"ignore\")\n",
    "import matplotlib.pyplot as plt\n",
    "import seaborn as sns\n",
    "import re\n",
    "import tensorflow as tf\n",
    "from tensorflow.keras.preprocessing.text import Tokenizer\n",
    "from tensorflow.keras.preprocessing.sequence import pad_sequences"
   ]
  },
  {
   "cell_type": "markdown",
   "id": "23178a28",
   "metadata": {
    "id": "wTjrbNsB4_ZN",
    "papermill": {
     "duration": 0.013558,
     "end_time": "2023-12-04T20:25:42.599143",
     "exception": false,
     "start_time": "2023-12-04T20:25:42.585585",
     "status": "completed"
    },
    "tags": []
   },
   "source": [
    "### Reading the twitter-spam data using pandas"
   ]
  },
  {
   "cell_type": "code",
   "execution_count": 2,
   "id": "f2bd0959",
   "metadata": {
    "execution": {
     "iopub.execute_input": "2023-12-04T20:25:42.628062Z",
     "iopub.status.busy": "2023-12-04T20:25:42.627513Z",
     "iopub.status.idle": "2023-12-04T20:25:42.747859Z",
     "shell.execute_reply": "2023-12-04T20:25:42.746781Z"
    },
    "id": "wfkbNacF4_ZN",
    "outputId": "e3e49942-d363-4b77-f1dc-d460ab9aa494",
    "papermill": {
     "duration": 0.136983,
     "end_time": "2023-12-04T20:25:42.749973",
     "exception": false,
     "start_time": "2023-12-04T20:25:42.612990",
     "status": "completed"
    },
    "tags": []
   },
   "outputs": [
    {
     "name": "stdout",
     "output_type": "stream",
     "text": [
      "Shape :  (11968, 8)\n"
     ]
    },
    {
     "data": {
      "text/html": [
       "<div>\n",
       "<style scoped>\n",
       "    .dataframe tbody tr th:only-of-type {\n",
       "        vertical-align: middle;\n",
       "    }\n",
       "\n",
       "    .dataframe tbody tr th {\n",
       "        vertical-align: top;\n",
       "    }\n",
       "\n",
       "    .dataframe thead th {\n",
       "        text-align: right;\n",
       "    }\n",
       "</style>\n",
       "<table border=\"1\" class=\"dataframe\">\n",
       "  <thead>\n",
       "    <tr style=\"text-align: right;\">\n",
       "      <th></th>\n",
       "      <th>Id</th>\n",
       "      <th>Tweet</th>\n",
       "      <th>following</th>\n",
       "      <th>followers</th>\n",
       "      <th>actions</th>\n",
       "      <th>is_retweet</th>\n",
       "      <th>location</th>\n",
       "      <th>Type</th>\n",
       "    </tr>\n",
       "  </thead>\n",
       "  <tbody>\n",
       "    <tr>\n",
       "      <th>0</th>\n",
       "      <td>10091</td>\n",
       "      <td>It's the everything else that's complicated. #...</td>\n",
       "      <td>0.0</td>\n",
       "      <td>11500.0</td>\n",
       "      <td>NaN</td>\n",
       "      <td>0.0</td>\n",
       "      <td>Chicago</td>\n",
       "      <td>Quality</td>\n",
       "    </tr>\n",
       "    <tr>\n",
       "      <th>1</th>\n",
       "      <td>10172</td>\n",
       "      <td>Eren sent a glare towards Mikasa then nodded a...</td>\n",
       "      <td>0.0</td>\n",
       "      <td>0.0</td>\n",
       "      <td>NaN</td>\n",
       "      <td>0.0</td>\n",
       "      <td>NaN</td>\n",
       "      <td>Quality</td>\n",
       "    </tr>\n",
       "    <tr>\n",
       "      <th>2</th>\n",
       "      <td>7012</td>\n",
       "      <td>I posted a new photo to Facebook http://fb.me/...</td>\n",
       "      <td>0.0</td>\n",
       "      <td>0.0</td>\n",
       "      <td>NaN</td>\n",
       "      <td>0.0</td>\n",
       "      <td>Scotland, U.K</td>\n",
       "      <td>Quality</td>\n",
       "    </tr>\n",
       "    <tr>\n",
       "      <th>3</th>\n",
       "      <td>3697</td>\n",
       "      <td>#jan Idiot Chelsea Handler Diagnoses Trump Wit...</td>\n",
       "      <td>3319.0</td>\n",
       "      <td>611.0</td>\n",
       "      <td>294.0</td>\n",
       "      <td>0.0</td>\n",
       "      <td>Atlanta, Ga</td>\n",
       "      <td>Spam</td>\n",
       "    </tr>\n",
       "    <tr>\n",
       "      <th>4</th>\n",
       "      <td>10740</td>\n",
       "      <td>Pedophile Anthony Weiner is TERRIFIED of Getti...</td>\n",
       "      <td>4840.0</td>\n",
       "      <td>1724.0</td>\n",
       "      <td>1522.0</td>\n",
       "      <td>0.0</td>\n",
       "      <td>Blumberg</td>\n",
       "      <td>Spam</td>\n",
       "    </tr>\n",
       "  </tbody>\n",
       "</table>\n",
       "</div>"
      ],
      "text/plain": [
       "      Id                                              Tweet  following  \\\n",
       "0  10091  It's the everything else that's complicated. #...        0.0   \n",
       "1  10172  Eren sent a glare towards Mikasa then nodded a...        0.0   \n",
       "2   7012  I posted a new photo to Facebook http://fb.me/...        0.0   \n",
       "3   3697  #jan Idiot Chelsea Handler Diagnoses Trump Wit...     3319.0   \n",
       "4  10740  Pedophile Anthony Weiner is TERRIFIED of Getti...     4840.0   \n",
       "\n",
       "   followers  actions  is_retweet       location     Type  \n",
       "0    11500.0      NaN         0.0        Chicago  Quality  \n",
       "1        0.0      NaN         0.0            NaN  Quality  \n",
       "2        0.0      NaN         0.0  Scotland, U.K  Quality  \n",
       "3      611.0    294.0         0.0    Atlanta, Ga     Spam  \n",
       "4     1724.0   1522.0         0.0       Blumberg     Spam  "
      ]
     },
     "execution_count": 2,
     "metadata": {},
     "output_type": "execute_result"
    }
   ],
   "source": [
    "df=pd.read_csv('/Users/Harshini Badam/Desktop/Pattern project/data.csv')\n",
    "print('Shape : ',df.shape)\n",
    "df.head()"
   ]
  },
  {
   "cell_type": "code",
   "execution_count": 3,
   "id": "e9030b4a",
   "metadata": {
    "execution": {
     "iopub.execute_input": "2023-12-04T20:25:42.786421Z",
     "iopub.status.busy": "2023-12-04T20:25:42.786136Z",
     "iopub.status.idle": "2023-12-04T20:25:42.796055Z",
     "shell.execute_reply": "2023-12-04T20:25:42.795271Z"
    },
    "id": "IdQ-srj24_ZO",
    "papermill": {
     "duration": 0.028222,
     "end_time": "2023-12-04T20:25:42.797857",
     "exception": false,
     "start_time": "2023-12-04T20:25:42.769635",
     "status": "completed"
    },
    "tags": []
   },
   "outputs": [],
   "source": [
    "df.drop([\"following\",\"Id\",\"actions\",\"is_retweet\",\"location\",\"followers\"],axis=1,inplace=True)"
   ]
  },
  {
   "cell_type": "code",
   "execution_count": 4,
   "id": "9476fbdb",
   "metadata": {
    "execution": {
     "iopub.execute_input": "2023-12-04T20:25:42.827090Z",
     "iopub.status.busy": "2023-12-04T20:25:42.826834Z",
     "iopub.status.idle": "2023-12-04T20:25:42.836551Z",
     "shell.execute_reply": "2023-12-04T20:25:42.835782Z"
    },
    "papermill": {
     "duration": 0.026383,
     "end_time": "2023-12-04T20:25:42.838488",
     "exception": false,
     "start_time": "2023-12-04T20:25:42.812105",
     "status": "completed"
    },
    "scrolled": true,
    "tags": []
   },
   "outputs": [
    {
     "data": {
      "text/html": [
       "<div>\n",
       "<style scoped>\n",
       "    .dataframe tbody tr th:only-of-type {\n",
       "        vertical-align: middle;\n",
       "    }\n",
       "\n",
       "    .dataframe tbody tr th {\n",
       "        vertical-align: top;\n",
       "    }\n",
       "\n",
       "    .dataframe thead th {\n",
       "        text-align: right;\n",
       "    }\n",
       "</style>\n",
       "<table border=\"1\" class=\"dataframe\">\n",
       "  <thead>\n",
       "    <tr style=\"text-align: right;\">\n",
       "      <th></th>\n",
       "      <th>Tweet</th>\n",
       "      <th>Type</th>\n",
       "    </tr>\n",
       "  </thead>\n",
       "  <tbody>\n",
       "    <tr>\n",
       "      <th>0</th>\n",
       "      <td>It's the everything else that's complicated. #...</td>\n",
       "      <td>Quality</td>\n",
       "    </tr>\n",
       "    <tr>\n",
       "      <th>1</th>\n",
       "      <td>Eren sent a glare towards Mikasa then nodded a...</td>\n",
       "      <td>Quality</td>\n",
       "    </tr>\n",
       "    <tr>\n",
       "      <th>2</th>\n",
       "      <td>I posted a new photo to Facebook http://fb.me/...</td>\n",
       "      <td>Quality</td>\n",
       "    </tr>\n",
       "    <tr>\n",
       "      <th>3</th>\n",
       "      <td>#jan Idiot Chelsea Handler Diagnoses Trump Wit...</td>\n",
       "      <td>Spam</td>\n",
       "    </tr>\n",
       "    <tr>\n",
       "      <th>4</th>\n",
       "      <td>Pedophile Anthony Weiner is TERRIFIED of Getti...</td>\n",
       "      <td>Spam</td>\n",
       "    </tr>\n",
       "    <tr>\n",
       "      <th>...</th>\n",
       "      <td>...</td>\n",
       "      <td>...</td>\n",
       "    </tr>\n",
       "    <tr>\n",
       "      <th>11963</th>\n",
       "      <td>11:11 meet harry</td>\n",
       "      <td>Quality</td>\n",
       "    </tr>\n",
       "    <tr>\n",
       "      <th>11964</th>\n",
       "      <td>If BBC Food disappears the loss of knowledge w...</td>\n",
       "      <td>Quality</td>\n",
       "    </tr>\n",
       "    <tr>\n",
       "      <th>11965</th>\n",
       "      <td>Look What Liberals Did to This Historic Monume...</td>\n",
       "      <td>Spam</td>\n",
       "    </tr>\n",
       "    <tr>\n",
       "      <th>11966</th>\n",
       "      <td>I uploaded a new track, \"Everyday Lite 1\", on ...</td>\n",
       "      <td>Quality</td>\n",
       "    </tr>\n",
       "    <tr>\n",
       "      <th>11967</th>\n",
       "      <td>Trump should be declared the victor by about 9...</td>\n",
       "      <td>Spam</td>\n",
       "    </tr>\n",
       "  </tbody>\n",
       "</table>\n",
       "<p>11968 rows × 2 columns</p>\n",
       "</div>"
      ],
      "text/plain": [
       "                                                   Tweet     Type\n",
       "0      It's the everything else that's complicated. #...  Quality\n",
       "1      Eren sent a glare towards Mikasa then nodded a...  Quality\n",
       "2      I posted a new photo to Facebook http://fb.me/...  Quality\n",
       "3      #jan Idiot Chelsea Handler Diagnoses Trump Wit...     Spam\n",
       "4      Pedophile Anthony Weiner is TERRIFIED of Getti...     Spam\n",
       "...                                                  ...      ...\n",
       "11963                                   11:11 meet harry  Quality\n",
       "11964  If BBC Food disappears the loss of knowledge w...  Quality\n",
       "11965  Look What Liberals Did to This Historic Monume...     Spam\n",
       "11966  I uploaded a new track, \"Everyday Lite 1\", on ...  Quality\n",
       "11967  Trump should be declared the victor by about 9...     Spam\n",
       "\n",
       "[11968 rows x 2 columns]"
      ]
     },
     "execution_count": 4,
     "metadata": {},
     "output_type": "execute_result"
    }
   ],
   "source": [
    "df"
   ]
  },
  {
   "cell_type": "code",
   "execution_count": 5,
   "id": "16f82cff",
   "metadata": {
    "execution": {
     "iopub.execute_input": "2023-12-04T20:25:42.868229Z",
     "iopub.status.busy": "2023-12-04T20:25:42.867961Z",
     "iopub.status.idle": "2023-12-04T20:25:42.871733Z",
     "shell.execute_reply": "2023-12-04T20:25:42.870957Z"
    },
    "id": "5RyVAk334_ZP",
    "papermill": {
     "duration": 0.020701,
     "end_time": "2023-12-04T20:25:42.873533",
     "exception": false,
     "start_time": "2023-12-04T20:25:42.852832",
     "status": "completed"
    },
    "tags": []
   },
   "outputs": [],
   "source": [
    "df.columns = [\"Tweet\",\"Type\"]"
   ]
  },
  {
   "cell_type": "code",
   "execution_count": 6,
   "id": "9a2e740c",
   "metadata": {
    "execution": {
     "iopub.execute_input": "2023-12-04T20:25:42.903102Z",
     "iopub.status.busy": "2023-12-04T20:25:42.902612Z",
     "iopub.status.idle": "2023-12-04T20:25:42.910544Z",
     "shell.execute_reply": "2023-12-04T20:25:42.909731Z"
    },
    "id": "xtqaJ75-4_ZP",
    "papermill": {
     "duration": 0.024614,
     "end_time": "2023-12-04T20:25:42.912374",
     "exception": false,
     "start_time": "2023-12-04T20:25:42.887760",
     "status": "completed"
    },
    "tags": []
   },
   "outputs": [],
   "source": [
    "df=df.dropna()"
   ]
  },
  {
   "cell_type": "code",
   "execution_count": 7,
   "id": "e4197f50",
   "metadata": {
    "execution": {
     "iopub.execute_input": "2023-12-04T20:25:42.941776Z",
     "iopub.status.busy": "2023-12-04T20:25:42.941541Z",
     "iopub.status.idle": "2023-12-04T20:25:42.953591Z",
     "shell.execute_reply": "2023-12-04T20:25:42.952655Z"
    },
    "id": "QqOs-pcM4_ZQ",
    "outputId": "8b3935c0-f1f2-4339-a947-ab6d953d9a41",
    "papermill": {
     "duration": 0.028879,
     "end_time": "2023-12-04T20:25:42.955466",
     "exception": false,
     "start_time": "2023-12-04T20:25:42.926587",
     "status": "completed"
    },
    "tags": []
   },
   "outputs": [
    {
     "name": "stdout",
     "output_type": "stream",
     "text": [
      "Number of duplicate tweets :  181\n"
     ]
    }
   ],
   "source": [
    "duplicate_rows = df[df.duplicated()]\n",
    "print('Number of duplicate tweets : ',len(duplicate_rows))"
   ]
  },
  {
   "cell_type": "code",
   "execution_count": 8,
   "id": "12d57cd1",
   "metadata": {
    "execution": {
     "iopub.execute_input": "2023-12-04T20:25:42.985695Z",
     "iopub.status.busy": "2023-12-04T20:25:42.985456Z",
     "iopub.status.idle": "2023-12-04T20:25:42.995099Z",
     "shell.execute_reply": "2023-12-04T20:25:42.994391Z"
    },
    "papermill": {
     "duration": 0.027108,
     "end_time": "2023-12-04T20:25:42.996852",
     "exception": false,
     "start_time": "2023-12-04T20:25:42.969744",
     "status": "completed"
    },
    "tags": []
   },
   "outputs": [],
   "source": [
    "df = df.drop_duplicates()"
   ]
  },
  {
   "cell_type": "code",
   "execution_count": 9,
   "id": "1b7c8e53",
   "metadata": {
    "execution": {
     "iopub.execute_input": "2023-12-04T20:25:43.026926Z",
     "iopub.status.busy": "2023-12-04T20:25:43.026195Z",
     "iopub.status.idle": "2023-12-04T20:25:43.030282Z",
     "shell.execute_reply": "2023-12-04T20:25:43.029628Z"
    },
    "id": "2cd0JPwF4_ZQ",
    "papermill": {
     "duration": 0.021522,
     "end_time": "2023-12-04T20:25:43.032628",
     "exception": false,
     "start_time": "2023-12-04T20:25:43.011106",
     "status": "completed"
    },
    "tags": []
   },
   "outputs": [],
   "source": [
    "df.reset_index(inplace=True)"
   ]
  },
  {
   "cell_type": "code",
   "execution_count": 10,
   "id": "5ae6a643",
   "metadata": {
    "execution": {
     "iopub.execute_input": "2023-12-04T20:25:43.104306Z",
     "iopub.status.busy": "2023-12-04T20:25:43.103966Z",
     "iopub.status.idle": "2023-12-04T20:25:43.117824Z",
     "shell.execute_reply": "2023-12-04T20:25:43.116949Z"
    },
    "papermill": {
     "duration": 0.071021,
     "end_time": "2023-12-04T20:25:43.119742",
     "exception": false,
     "start_time": "2023-12-04T20:25:43.048721",
     "status": "completed"
    },
    "tags": []
   },
   "outputs": [],
   "source": [
    "d = {\"Quality\":0,\"Spam\":1}\n",
    "df[\"Type\"] = df[\"Type\"].apply(lambda x : d[x])"
   ]
  },
  {
   "cell_type": "markdown",
   "id": "6bb8782b",
   "metadata": {
    "id": "PR0MnmSU4_ZQ",
    "papermill": {
     "duration": 0.016762,
     "end_time": "2023-12-04T20:25:43.151651",
     "exception": false,
     "start_time": "2023-12-04T20:25:43.134889",
     "status": "completed"
    },
    "tags": []
   },
   "source": [
    "## Data Analysis"
   ]
  },
  {
   "cell_type": "markdown",
   "id": "6c99aeb9",
   "metadata": {
    "id": "CSA40Ujx4_ZR",
    "papermill": {
     "duration": 0.01629,
     "end_time": "2023-12-04T20:25:43.186394",
     "exception": false,
     "start_time": "2023-12-04T20:25:43.170104",
     "status": "completed"
    },
    "tags": []
   },
   "source": [
    "Analysing the statistical measures of the data:"
   ]
  },
  {
   "cell_type": "code",
   "execution_count": 11,
   "id": "e942f623",
   "metadata": {
    "collapsed": true,
    "execution": {
     "iopub.execute_input": "2023-12-04T20:25:43.218639Z",
     "iopub.status.busy": "2023-12-04T20:25:43.218341Z",
     "iopub.status.idle": "2023-12-04T20:25:43.234379Z",
     "shell.execute_reply": "2023-12-04T20:25:43.233543Z"
    },
    "id": "dhvkK2rW4_ZR",
    "outputId": "af8c54c9-9b96-4220-980b-35ba7eeb5df0",
    "papermill": {
     "duration": 0.033054,
     "end_time": "2023-12-04T20:25:43.236217",
     "exception": false,
     "start_time": "2023-12-04T20:25:43.203163",
     "status": "completed"
    },
    "tags": []
   },
   "outputs": [
    {
     "data": {
      "text/html": [
       "<div>\n",
       "<style scoped>\n",
       "    .dataframe tbody tr th:only-of-type {\n",
       "        vertical-align: middle;\n",
       "    }\n",
       "\n",
       "    .dataframe tbody tr th {\n",
       "        vertical-align: top;\n",
       "    }\n",
       "\n",
       "    .dataframe thead th {\n",
       "        text-align: right;\n",
       "    }\n",
       "</style>\n",
       "<table border=\"1\" class=\"dataframe\">\n",
       "  <thead>\n",
       "    <tr style=\"text-align: right;\">\n",
       "      <th></th>\n",
       "      <th>index</th>\n",
       "      <th>Type</th>\n",
       "    </tr>\n",
       "  </thead>\n",
       "  <tbody>\n",
       "    <tr>\n",
       "      <th>count</th>\n",
       "      <td>11787.000000</td>\n",
       "      <td>11787.000000</td>\n",
       "    </tr>\n",
       "    <tr>\n",
       "      <th>mean</th>\n",
       "      <td>5965.593620</td>\n",
       "      <td>0.492407</td>\n",
       "    </tr>\n",
       "    <tr>\n",
       "      <th>std</th>\n",
       "      <td>3457.079014</td>\n",
       "      <td>0.499964</td>\n",
       "    </tr>\n",
       "    <tr>\n",
       "      <th>min</th>\n",
       "      <td>0.000000</td>\n",
       "      <td>0.000000</td>\n",
       "    </tr>\n",
       "    <tr>\n",
       "      <th>25%</th>\n",
       "      <td>2969.500000</td>\n",
       "      <td>0.000000</td>\n",
       "    </tr>\n",
       "    <tr>\n",
       "      <th>50%</th>\n",
       "      <td>5955.000000</td>\n",
       "      <td>0.000000</td>\n",
       "    </tr>\n",
       "    <tr>\n",
       "      <th>75%</th>\n",
       "      <td>8964.500000</td>\n",
       "      <td>1.000000</td>\n",
       "    </tr>\n",
       "    <tr>\n",
       "      <th>max</th>\n",
       "      <td>11967.000000</td>\n",
       "      <td>1.000000</td>\n",
       "    </tr>\n",
       "  </tbody>\n",
       "</table>\n",
       "</div>"
      ],
      "text/plain": [
       "              index          Type\n",
       "count  11787.000000  11787.000000\n",
       "mean    5965.593620      0.492407\n",
       "std     3457.079014      0.499964\n",
       "min        0.000000      0.000000\n",
       "25%     2969.500000      0.000000\n",
       "50%     5955.000000      0.000000\n",
       "75%     8964.500000      1.000000\n",
       "max    11967.000000      1.000000"
      ]
     },
     "execution_count": 11,
     "metadata": {},
     "output_type": "execute_result"
    }
   ],
   "source": [
    "df.describe()"
   ]
  },
  {
   "cell_type": "markdown",
   "id": "14601f54",
   "metadata": {
    "id": "2K-g4afM4_ZR",
    "papermill": {
     "duration": 0.014264,
     "end_time": "2023-12-04T20:25:43.265036",
     "exception": false,
     "start_time": "2023-12-04T20:25:43.250772",
     "status": "completed"
    },
    "tags": []
   },
   "source": [
    "Displaying the Datatype and the number of Non-Null values of each column in the dataset:"
   ]
  },
  {
   "cell_type": "code",
   "execution_count": 12,
   "id": "72156963",
   "metadata": {
    "execution": {
     "iopub.execute_input": "2023-12-04T20:25:43.294851Z",
     "iopub.status.busy": "2023-12-04T20:25:43.294601Z",
     "iopub.status.idle": "2023-12-04T20:25:43.309489Z",
     "shell.execute_reply": "2023-12-04T20:25:43.308665Z"
    },
    "id": "FQEoP1v94_ZR",
    "outputId": "8e9a5e56-a702-42e8-82f7-e691941fe111",
    "papermill": {
     "duration": 0.031991,
     "end_time": "2023-12-04T20:25:43.311469",
     "exception": false,
     "start_time": "2023-12-04T20:25:43.279478",
     "status": "completed"
    },
    "tags": []
   },
   "outputs": [
    {
     "name": "stdout",
     "output_type": "stream",
     "text": [
      "<class 'pandas.core.frame.DataFrame'>\n",
      "RangeIndex: 11787 entries, 0 to 11786\n",
      "Data columns (total 3 columns):\n",
      " #   Column  Non-Null Count  Dtype \n",
      "---  ------  --------------  ----- \n",
      " 0   index   11787 non-null  int64 \n",
      " 1   Tweet   11787 non-null  object\n",
      " 2   Type    11787 non-null  int64 \n",
      "dtypes: int64(2), object(1)\n",
      "memory usage: 276.4+ KB\n"
     ]
    }
   ],
   "source": [
    "df.info()"
   ]
  },
  {
   "cell_type": "markdown",
   "id": "ac84e359",
   "metadata": {
    "id": "Hf1CUIad4_ZR",
    "papermill": {
     "duration": 0.014364,
     "end_time": "2023-12-04T20:25:43.340380",
     "exception": false,
     "start_time": "2023-12-04T20:25:43.326016",
     "status": "completed"
    },
    "tags": []
   },
   "source": [
    "Analysing the target variable count to check whether the data is biased to any of the target variable:"
   ]
  },
  {
   "cell_type": "code",
   "execution_count": 13,
   "id": "d162b405",
   "metadata": {
    "execution": {
     "iopub.execute_input": "2023-12-04T20:25:43.370626Z",
     "iopub.status.busy": "2023-12-04T20:25:43.370364Z",
     "iopub.status.idle": "2023-12-04T20:25:43.378032Z",
     "shell.execute_reply": "2023-12-04T20:25:43.377208Z"
    },
    "id": "T84Kcwvk4_ZR",
    "outputId": "21a1aa1f-1ec8-4a3f-fa98-f751b50d0d0b",
    "papermill": {
     "duration": 0.025057,
     "end_time": "2023-12-04T20:25:43.379982",
     "exception": false,
     "start_time": "2023-12-04T20:25:43.354925",
     "status": "completed"
    },
    "tags": []
   },
   "outputs": [
    {
     "data": {
      "text/plain": [
       "Type\n",
       "0    5983\n",
       "1    5804\n",
       "Name: count, dtype: int64"
      ]
     },
     "execution_count": 13,
     "metadata": {},
     "output_type": "execute_result"
    }
   ],
   "source": [
    "df['Type'].value_counts()"
   ]
  },
  {
   "cell_type": "markdown",
   "id": "ab6ec198",
   "metadata": {
    "id": "fWSUGcZO4_ZS",
    "papermill": {
     "duration": 0.014591,
     "end_time": "2023-12-04T20:25:43.409257",
     "exception": false,
     "start_time": "2023-12-04T20:25:43.394666",
     "status": "completed"
    },
    "tags": []
   },
   "source": [
    "Analysing the Null values w.r.t each feature:"
   ]
  },
  {
   "cell_type": "code",
   "execution_count": 14,
   "id": "7f62b3b3",
   "metadata": {
    "execution": {
     "iopub.execute_input": "2023-12-04T20:25:43.439762Z",
     "iopub.status.busy": "2023-12-04T20:25:43.439506Z",
     "iopub.status.idle": "2023-12-04T20:25:43.446854Z",
     "shell.execute_reply": "2023-12-04T20:25:43.446092Z"
    },
    "id": "Fu7IMY_-4_ZS",
    "outputId": "73a137f6-ebb2-4485-db07-695d535dac78",
    "papermill": {
     "duration": 0.024608,
     "end_time": "2023-12-04T20:25:43.448697",
     "exception": false,
     "start_time": "2023-12-04T20:25:43.424089",
     "status": "completed"
    },
    "tags": []
   },
   "outputs": [
    {
     "data": {
      "text/plain": [
       "index    0\n",
       "Tweet    0\n",
       "Type     0\n",
       "dtype: int64"
      ]
     },
     "execution_count": 14,
     "metadata": {},
     "output_type": "execute_result"
    }
   ],
   "source": [
    "df.isna().sum()"
   ]
  },
  {
   "cell_type": "markdown",
   "id": "bc5a1b56",
   "metadata": {
    "id": "tT1BQ_xw4_ZS",
    "papermill": {
     "duration": 0.014818,
     "end_time": "2023-12-04T20:25:43.478297",
     "exception": false,
     "start_time": "2023-12-04T20:25:43.463479",
     "status": "completed"
    },
    "tags": []
   },
   "source": [
    "## Text Cleaning and preprocessing:"
   ]
  },
  {
   "cell_type": "code",
   "execution_count": 15,
   "id": "ad7c003e",
   "metadata": {
    "execution": {
     "iopub.execute_input": "2023-12-04T20:25:43.514052Z",
     "iopub.status.busy": "2023-12-04T20:25:43.513663Z",
     "iopub.status.idle": "2023-12-04T20:25:58.224479Z",
     "shell.execute_reply": "2023-12-04T20:25:58.223398Z"
    },
    "id": "CIuWiO5v4_ZS",
    "outputId": "f08ad1a5-5324-4ded-a5db-b5f988218d85",
    "papermill": {
     "duration": 14.733682,
     "end_time": "2023-12-04T20:25:58.227009",
     "exception": false,
     "start_time": "2023-12-04T20:25:43.493327",
     "status": "completed"
    },
    "tags": []
   },
   "outputs": [
    {
     "name": "stdout",
     "output_type": "stream",
     "text": [
      "Requirement already satisfied: bs4 in d:\\anaconda\\lib\\site-packages (0.0.1)\n",
      "Requirement already satisfied: beautifulsoup4 in d:\\anaconda\\lib\\site-packages (from bs4) (4.12.2)\n",
      "Requirement already satisfied: soupsieve>1.2 in d:\\anaconda\\lib\\site-packages (from beautifulsoup4->bs4) (2.4)\n"
     ]
    }
   ],
   "source": [
    "!pip install bs4"
   ]
  },
  {
   "cell_type": "code",
   "execution_count": 16,
   "id": "54f0d4e9",
   "metadata": {
    "execution": {
     "iopub.execute_input": "2023-12-04T20:25:58.260966Z",
     "iopub.status.busy": "2023-12-04T20:25:58.260331Z",
     "iopub.status.idle": "2023-12-04T20:25:58.267343Z",
     "shell.execute_reply": "2023-12-04T20:25:58.266523Z"
    },
    "id": "z4A_eE6u4_ZS",
    "papermill": {
     "duration": 0.025875,
     "end_time": "2023-12-04T20:25:58.269140",
     "exception": false,
     "start_time": "2023-12-04T20:25:58.243265",
     "status": "completed"
    },
    "tags": []
   },
   "outputs": [],
   "source": [
    "import re\n",
    "\n",
    "def decontracted(phrase):\n",
    "    # specific\n",
    "    phrase = re.sub(r\"won't\", \"will not\", phrase)\n",
    "    phrase = re.sub(r\"can\\'t\", \"can not\", phrase)\n",
    "\n",
    "    # general\n",
    "    phrase = re.sub(r\"n\\'t\", \" not\", phrase)\n",
    "    phrase = re.sub(r\"\\'re\", \" are\", phrase)\n",
    "    phrase = re.sub(r\"\\'s\", \" is\", phrase)\n",
    "    phrase = re.sub(r\"\\'d\", \" would\", phrase)\n",
    "    phrase = re.sub(r\"\\'ll\", \" will\", phrase)\n",
    "    phrase = re.sub(r\"\\'t\", \" not\", phrase)\n",
    "    phrase = re.sub(r\"\\'ve\", \" have\", phrase)\n",
    "    phrase = re.sub(r\"\\'m\", \" am\", phrase)\n",
    "    return phrase"
   ]
  },
  {
   "cell_type": "code",
   "execution_count": 17,
   "id": "95bcaaf6",
   "metadata": {
    "execution": {
     "iopub.execute_input": "2023-12-04T20:25:58.302042Z",
     "iopub.status.busy": "2023-12-04T20:25:58.301410Z",
     "iopub.status.idle": "2023-12-04T20:25:59.090359Z",
     "shell.execute_reply": "2023-12-04T20:25:59.089436Z"
    },
    "id": "-6hO_3aj4_ZT",
    "outputId": "fc3101ae-16de-4335-b70b-34c625c41041",
    "papermill": {
     "duration": 0.807766,
     "end_time": "2023-12-04T20:25:59.092421",
     "exception": false,
     "start_time": "2023-12-04T20:25:58.284655",
     "status": "completed"
    },
    "tags": []
   },
   "outputs": [
    {
     "name": "stderr",
     "output_type": "stream",
     "text": [
      "[nltk_data] Downloading package stopwords to C:\\Users\\Harshini\n",
      "[nltk_data]     Badam\\AppData\\Roaming\\nltk_data...\n",
      "[nltk_data]   Package stopwords is already up-to-date!\n"
     ]
    },
    {
     "data": {
      "text/plain": [
       "True"
      ]
     },
     "execution_count": 17,
     "metadata": {},
     "output_type": "execute_result"
    }
   ],
   "source": [
    "import nltk\n",
    "import re\n",
    "from nltk.corpus import stopwords\n",
    "nltk.download('stopwords')"
   ]
  },
  {
   "cell_type": "code",
   "execution_count": 18,
   "id": "71e324b6",
   "metadata": {
    "execution": {
     "iopub.execute_input": "2023-12-04T20:25:59.126251Z",
     "iopub.status.busy": "2023-12-04T20:25:59.125898Z",
     "iopub.status.idle": "2023-12-04T20:26:19.781610Z",
     "shell.execute_reply": "2023-12-04T20:26:19.780620Z"
    },
    "id": "j6_5mdk84_ZT",
    "outputId": "d10d85d7-b513-41b4-b48a-b3f438c6cbcd",
    "papermill": {
     "duration": 20.674814,
     "end_time": "2023-12-04T20:26:19.783671",
     "exception": false,
     "start_time": "2023-12-04T20:25:59.108857",
     "status": "completed"
    },
    "tags": []
   },
   "outputs": [
    {
     "name": "stderr",
     "output_type": "stream",
     "text": [
      "100%|███████████████████████████████████████████████████████████████████████████| 11787/11787 [01:15<00:00, 155.92it/s]\n"
     ]
    }
   ],
   "source": [
    "from bs4 import BeautifulSoup\n",
    "from tqdm import tqdm\n",
    "preprocessed_Tweets = []\n",
    "\n",
    "for sentance in tqdm(df['Tweet'].values):\n",
    "\n",
    "    sentance = re.sub(r\"http\\S+\", \"\", sentance)\n",
    "    sentance = BeautifulSoup(sentance, 'lxml').get_text()\n",
    "    sentance = decontracted(sentance)\n",
    "    sentance = re.sub(\"\\S*\\d\\S*\", \"\", sentance).strip()\n",
    "    sentance = re.sub('[^A-Za-z]+', ' ', sentance)\n",
    "    # https://gist.github.com/sebleier/554280\n",
    "    sentance = ' '.join(e.lower() for e in sentance.split() if e.lower() not in stopwords.words('english'))\n",
    "    preprocessed_Tweets.append(sentance.strip())"
   ]
  },
  {
   "cell_type": "code",
   "execution_count": 19,
   "id": "4ecc77d4",
   "metadata": {
    "execution": {
     "iopub.execute_input": "2023-12-04T20:26:19.847902Z",
     "iopub.status.busy": "2023-12-04T20:26:19.847173Z",
     "iopub.status.idle": "2023-12-04T20:26:19.852564Z",
     "shell.execute_reply": "2023-12-04T20:26:19.851787Z"
    },
    "id": "J62RqV0i4_ZT",
    "outputId": "75af5c09-8f37-41e9-db0a-12ef3d5add82",
    "papermill": {
     "duration": 0.039255,
     "end_time": "2023-12-04T20:26:19.854527",
     "exception": false,
     "start_time": "2023-12-04T20:26:19.815272",
     "status": "completed"
    },
    "tags": []
   },
   "outputs": [
    {
     "name": "stdout",
     "output_type": "stream",
     "text": [
      "It's the everything else that's complicated. #PESummit #PXpic.twitter.com/Jsv6BAFQMl\n",
      "everything else complicated pesummit\n"
     ]
    }
   ],
   "source": [
    "print(df[\"Tweet\"][0])\n",
    "print(preprocessed_Tweets[0])"
   ]
  },
  {
   "cell_type": "code",
   "execution_count": 20,
   "id": "82be1269",
   "metadata": {
    "execution": {
     "iopub.execute_input": "2023-12-04T20:26:19.917498Z",
     "iopub.status.busy": "2023-12-04T20:26:19.917218Z",
     "iopub.status.idle": "2023-12-04T20:26:19.922980Z",
     "shell.execute_reply": "2023-12-04T20:26:19.922242Z"
    },
    "id": "erGYOc624_ZT",
    "papermill": {
     "duration": 0.039478,
     "end_time": "2023-12-04T20:26:19.924872",
     "exception": false,
     "start_time": "2023-12-04T20:26:19.885394",
     "status": "completed"
    },
    "tags": []
   },
   "outputs": [],
   "source": [
    "df[\"Preprocessed_tweets\"] = preprocessed_Tweets"
   ]
  },
  {
   "cell_type": "code",
   "execution_count": 21,
   "id": "5c0ca2dc",
   "metadata": {
    "execution": {
     "iopub.execute_input": "2023-12-04T20:26:19.988319Z",
     "iopub.status.busy": "2023-12-04T20:26:19.988040Z",
     "iopub.status.idle": "2023-12-04T20:26:20.095839Z",
     "shell.execute_reply": "2023-12-04T20:26:20.095107Z"
    },
    "papermill": {
     "duration": 0.142499,
     "end_time": "2023-12-04T20:26:20.098138",
     "exception": false,
     "start_time": "2023-12-04T20:26:19.955639",
     "status": "completed"
    },
    "tags": []
   },
   "outputs": [],
   "source": [
    "df.to_csv(\"preprocessed_tweets.csv\",index=None)"
   ]
  },
  {
   "cell_type": "markdown",
   "id": "81667d3d",
   "metadata": {
    "id": "fEDIWx9G4_ZT",
    "papermill": {
     "duration": 0.030948,
     "end_time": "2023-12-04T20:26:20.160375",
     "exception": false,
     "start_time": "2023-12-04T20:26:20.129427",
     "status": "completed"
    },
    "tags": []
   },
   "source": [
    "Identifying the number of unique words in the cleaned tweets:"
   ]
  },
  {
   "cell_type": "code",
   "execution_count": 22,
   "id": "b50f9791",
   "metadata": {
    "execution": {
     "iopub.execute_input": "2023-12-04T20:26:20.224111Z",
     "iopub.status.busy": "2023-12-04T20:26:20.223417Z",
     "iopub.status.idle": "2023-12-04T20:26:20.269387Z",
     "shell.execute_reply": "2023-12-04T20:26:20.268443Z"
    },
    "id": "uqZkG08M4_ZT",
    "outputId": "be980c25-2293-4203-e399-2620d55979c7",
    "papermill": {
     "duration": 0.080332,
     "end_time": "2023-12-04T20:26:20.271652",
     "exception": false,
     "start_time": "2023-12-04T20:26:20.191320",
     "status": "completed"
    },
    "tags": []
   },
   "outputs": [
    {
     "name": "stderr",
     "output_type": "stream",
     "text": [
      "100%|████████████████████████████████████████████████████████████████████████| 11787/11787 [00:00<00:00, 356676.82it/s]"
     ]
    },
    {
     "name": "stdout",
     "output_type": "stream",
     "text": [
      "Number of unique words is :  21583\n"
     ]
    },
    {
     "name": "stderr",
     "output_type": "stream",
     "text": [
      "\n"
     ]
    }
   ],
   "source": [
    "words=[]\n",
    "for i in tqdm(preprocessed_Tweets):\n",
    "    for j in i.split():\n",
    "        words.append(j)\n",
    "print('Number of unique words is : ',len(set(words)))"
   ]
  },
  {
   "cell_type": "markdown",
   "id": "88a5cc2f",
   "metadata": {
    "id": "EqWwdaoP4_ZT",
    "papermill": {
     "duration": 0.031027,
     "end_time": "2023-12-04T20:26:20.334154",
     "exception": false,
     "start_time": "2023-12-04T20:26:20.303127",
     "status": "completed"
    },
    "tags": []
   },
   "source": [
    "### Distribution plot of length of the tweets:"
   ]
  },
  {
   "cell_type": "code",
   "execution_count": 23,
   "id": "a92a43fc",
   "metadata": {
    "execution": {
     "iopub.execute_input": "2023-12-04T20:26:20.397898Z",
     "iopub.status.busy": "2023-12-04T20:26:20.397551Z",
     "iopub.status.idle": "2023-12-04T20:26:20.414154Z",
     "shell.execute_reply": "2023-12-04T20:26:20.413311Z"
    },
    "id": "DcsWLLvs4_ZU",
    "papermill": {
     "duration": 0.050937,
     "end_time": "2023-12-04T20:26:20.416042",
     "exception": false,
     "start_time": "2023-12-04T20:26:20.365105",
     "status": "completed"
    },
    "tags": []
   },
   "outputs": [],
   "source": [
    "l = []\n",
    "for x in df[\"Preprocessed_tweets\"] :\n",
    "    l.append(len(x.split()))\n"
   ]
  },
  {
   "cell_type": "code",
   "execution_count": 24,
   "id": "8dd6d652",
   "metadata": {
    "execution": {
     "iopub.execute_input": "2023-12-04T20:26:20.486900Z",
     "iopub.status.busy": "2023-12-04T20:26:20.486140Z",
     "iopub.status.idle": "2023-12-04T20:26:20.497299Z",
     "shell.execute_reply": "2023-12-04T20:26:20.496324Z"
    },
    "id": "sCm5Nys04_ZU",
    "papermill": {
     "duration": 0.052675,
     "end_time": "2023-12-04T20:26:20.499970",
     "exception": false,
     "start_time": "2023-12-04T20:26:20.447295",
     "status": "completed"
    },
    "tags": []
   },
   "outputs": [],
   "source": [
    "df[\"Tweet_length\"] = l"
   ]
  },
  {
   "cell_type": "code",
   "execution_count": 25,
   "id": "13431239",
   "metadata": {
    "execution": {
     "iopub.execute_input": "2023-12-04T20:26:20.578653Z",
     "iopub.status.busy": "2023-12-04T20:26:20.577763Z",
     "iopub.status.idle": "2023-12-04T20:26:20.584515Z",
     "shell.execute_reply": "2023-12-04T20:26:20.583680Z"
    },
    "id": "uicWk2PR4_ZU",
    "outputId": "fbc788a1-5d2e-4e6c-eea1-6e7b8c03c34a",
    "papermill": {
     "duration": 0.044516,
     "end_time": "2023-12-04T20:26:20.586524",
     "exception": false,
     "start_time": "2023-12-04T20:26:20.542008",
     "status": "completed"
    },
    "tags": []
   },
   "outputs": [
    {
     "data": {
      "text/plain": [
       "Index(['index', 'Tweet', 'Type', 'Preprocessed_tweets', 'Tweet_length'], dtype='object')"
      ]
     },
     "execution_count": 25,
     "metadata": {},
     "output_type": "execute_result"
    }
   ],
   "source": [
    "df.columns"
   ]
  },
  {
   "cell_type": "code",
   "execution_count": 26,
   "id": "f11217d4",
   "metadata": {
    "execution": {
     "iopub.execute_input": "2023-12-04T20:26:20.651808Z",
     "iopub.status.busy": "2023-12-04T20:26:20.651400Z",
     "iopub.status.idle": "2023-12-04T20:26:21.225756Z",
     "shell.execute_reply": "2023-12-04T20:26:21.224546Z"
    },
    "id": "ogZRD-PE4_ZU",
    "outputId": "f040862e-38e0-4658-ffe7-c79c10c13b5a",
    "papermill": {
     "duration": 0.609762,
     "end_time": "2023-12-04T20:26:21.228139",
     "exception": false,
     "start_time": "2023-12-04T20:26:20.618377",
     "status": "completed"
    },
    "scrolled": true,
    "tags": []
   },
   "outputs": [
    {
     "data": {
      "image/png": "[encoded data removed]",
      "text/plain": [
       "<Figure size 500x500 with 1 Axes>"
      ]
     },
     "metadata": {},
     "output_type": "display_data"
    }
   ],
   "source": [
    "sns.displot(df['Tweet_length'])\n",
    "plt.show()"
   ]
  },
  {
   "cell_type": "code",
   "execution_count": 27,
   "id": "e3307643",
   "metadata": {
    "execution": {
     "iopub.execute_input": "2023-12-04T20:26:21.297053Z",
     "iopub.status.busy": "2023-12-04T20:26:21.296318Z",
     "iopub.status.idle": "2023-12-04T20:26:21.303448Z",
     "shell.execute_reply": "2023-12-04T20:26:21.302499Z"
    },
    "papermill": {
     "duration": 0.042093,
     "end_time": "2023-12-04T20:26:21.305324",
     "exception": false,
     "start_time": "2023-12-04T20:26:21.263231",
     "status": "completed"
    },
    "tags": []
   },
   "outputs": [
    {
     "data": {
      "text/plain": [
       "0.4924068889454484"
      ]
     },
     "execution_count": 27,
     "metadata": {},
     "output_type": "execute_result"
    }
   ],
   "source": [
    "df[\"Type\"].mean()"
   ]
  },
  {
   "cell_type": "markdown",
   "id": "900e8b8b",
   "metadata": {
    "id": "7jYEQGAF4_ZU",
    "papermill": {
     "duration": 0.038165,
     "end_time": "2023-12-04T20:26:21.379026",
     "exception": false,
     "start_time": "2023-12-04T20:26:21.340861",
     "status": "completed"
    },
    "tags": []
   },
   "source": [
    "## Splitting the data into train and test:"
   ]
  },
  {
   "cell_type": "code",
   "execution_count": 28,
   "id": "1ca170ee",
   "metadata": {
    "execution": {
     "iopub.execute_input": "2023-12-04T20:26:21.457111Z",
     "iopub.status.busy": "2023-12-04T20:26:21.456195Z",
     "iopub.status.idle": "2023-12-04T20:26:21.466699Z",
     "shell.execute_reply": "2023-12-04T20:26:21.465665Z"
    },
    "id": "VQ9-CaEP4_ZU",
    "papermill": {
     "duration": 0.052154,
     "end_time": "2023-12-04T20:26:21.469220",
     "exception": false,
     "start_time": "2023-12-04T20:26:21.417066",
     "status": "completed"
    },
    "tags": []
   },
   "outputs": [],
   "source": [
    "df['Tweet_label']= df['Type']\n",
    "labels = df['Tweet_label'].values\n",
    "from sklearn.model_selection import train_test_split\n",
    "X_train, X_test, Y_train, Y_test = train_test_split(df[\"Preprocessed_tweets\"],labels, test_size=0.2, random_state=None)"
   ]
  },
  {
   "cell_type": "code",
   "execution_count": 29,
   "id": "452c0e22",
   "metadata": {
    "execution": {
     "iopub.execute_input": "2023-12-04T20:26:21.550478Z",
     "iopub.status.busy": "2023-12-04T20:26:21.549988Z",
     "iopub.status.idle": "2023-12-04T20:26:21.555821Z",
     "shell.execute_reply": "2023-12-04T20:26:21.554680Z"
    },
    "id": "CmLHz5Gr4_ZY",
    "papermill": {
     "duration": 0.048374,
     "end_time": "2023-12-04T20:26:21.558138",
     "exception": false,
     "start_time": "2023-12-04T20:26:21.509764",
     "status": "completed"
    },
    "tags": []
   },
   "outputs": [],
   "source": [
    "max_len = 20\n",
    "trunc_type = \"post\"\n",
    "padding_type = \"pre\"\n",
    "oov_tok = \"<OOV>\"\n"
   ]
  },
  {
   "cell_type": "code",
   "execution_count": 30,
   "id": "e92b72fb",
   "metadata": {
    "execution": {
     "iopub.execute_input": "2023-12-04T20:26:21.635962Z",
     "iopub.status.busy": "2023-12-04T20:26:21.635081Z",
     "iopub.status.idle": "2023-12-04T20:26:21.828977Z",
     "shell.execute_reply": "2023-12-04T20:26:21.828126Z"
    },
    "id": "UT7pPZSq4_ZY",
    "papermill": {
     "duration": 0.235423,
     "end_time": "2023-12-04T20:26:21.831320",
     "exception": false,
     "start_time": "2023-12-04T20:26:21.595897",
     "status": "completed"
    },
    "tags": []
   },
   "outputs": [],
   "source": [
    "token = Tokenizer( char_level=False, oov_token = oov_tok) # oov_token is used for out of vocabulary\n",
    "token.fit_on_texts(X_train)"
   ]
  },
  {
   "cell_type": "code",
   "execution_count": 31,
   "id": "e584caaf",
   "metadata": {
    "execution": {
     "iopub.execute_input": "2023-12-04T20:26:21.899188Z",
     "iopub.status.busy": "2023-12-04T20:26:21.898798Z",
     "iopub.status.idle": "2023-12-04T20:26:21.905029Z",
     "shell.execute_reply": "2023-12-04T20:26:21.904192Z"
    },
    "id": "Zmyt3CNE4_ZY",
    "outputId": "d7194687-af7d-4c7a-9651-15233d322699",
    "papermill": {
     "duration": 0.04311,
     "end_time": "2023-12-04T20:26:21.907157",
     "exception": false,
     "start_time": "2023-12-04T20:26:21.864047",
     "status": "completed"
    },
    "tags": []
   },
   "outputs": [
    {
     "data": {
      "text/plain": [
       "18859"
      ]
     },
     "execution_count": 31,
     "metadata": {},
     "output_type": "execute_result"
    }
   ],
   "source": [
    "#token.word_index\n",
    "len(token.word_index)"
   ]
  },
  {
   "cell_type": "code",
   "execution_count": 32,
   "id": "a8a1d249",
   "metadata": {
    "execution": {
     "iopub.execute_input": "2023-12-04T20:26:21.977584Z",
     "iopub.status.busy": "2023-12-04T20:26:21.977181Z",
     "iopub.status.idle": "2023-12-04T20:26:21.981694Z",
     "shell.execute_reply": "2023-12-04T20:26:21.980790Z"
    },
    "id": "fY6S-OZQ4_ZZ",
    "papermill": {
     "duration": 0.042438,
     "end_time": "2023-12-04T20:26:21.983619",
     "exception": false,
     "start_time": "2023-12-04T20:26:21.941181",
     "status": "completed"
    },
    "tags": []
   },
   "outputs": [],
   "source": [
    "vocab_size = len(token.word_index)+1 # 1 is added because of padding (0) and one more thing 0 is not present in tokenizer vocabulary it will start from 1"
   ]
  },
  {
   "cell_type": "code",
   "execution_count": 33,
   "id": "55731f96",
   "metadata": {
    "execution": {
     "iopub.execute_input": "2023-12-04T20:26:22.052749Z",
     "iopub.status.busy": "2023-12-04T20:26:22.052401Z",
     "iopub.status.idle": "2023-12-04T20:26:22.059291Z",
     "shell.execute_reply": "2023-12-04T20:26:22.058394Z"
    },
    "id": "U3gZwy4I4_ZZ",
    "outputId": "4a3788e6-50ea-41d6-84e0-7a4d2ebd9ba2",
    "papermill": {
     "duration": 0.043124,
     "end_time": "2023-12-04T20:26:22.061188",
     "exception": false,
     "start_time": "2023-12-04T20:26:22.018064",
     "status": "completed"
    },
    "tags": []
   },
   "outputs": [
    {
     "data": {
      "text/plain": [
       "['<OOV>',\n",
       " 'trump',\n",
       " 'news',\n",
       " 'new',\n",
       " 'rt',\n",
       " 'twitter',\n",
       " 'like',\n",
       " 'get',\n",
       " 'com',\n",
       " 'people']"
      ]
     },
     "execution_count": 33,
     "metadata": {},
     "output_type": "execute_result"
    }
   ],
   "source": [
    "word_index = token.word_index\n",
    "c = list(word_index.keys())\n",
    "c[0:10]"
   ]
  },
  {
   "cell_type": "markdown",
   "id": "80b216e7",
   "metadata": {
    "id": "prgeMIdE4_ZZ",
    "papermill": {
     "duration": 0.032247,
     "end_time": "2023-12-04T20:26:22.125777",
     "exception": false,
     "start_time": "2023-12-04T20:26:22.093530",
     "status": "completed"
    },
    "tags": []
   },
   "source": [
    "## Replacing each token with the respective token and then padding the sequences :"
   ]
  },
  {
   "cell_type": "code",
   "execution_count": 34,
   "id": "4f1fe0f5",
   "metadata": {
    "execution": {
     "iopub.execute_input": "2023-12-04T20:26:22.191774Z",
     "iopub.status.busy": "2023-12-04T20:26:22.191126Z",
     "iopub.status.idle": "2023-12-04T20:26:22.397747Z",
     "shell.execute_reply": "2023-12-04T20:26:22.396966Z"
    },
    "id": "aUpdLxZ-4_ZZ",
    "papermill": {
     "duration": 0.241983,
     "end_time": "2023-12-04T20:26:22.400121",
     "exception": false,
     "start_time": "2023-12-04T20:26:22.158138",
     "status": "completed"
    },
    "tags": []
   },
   "outputs": [],
   "source": [
    "x_train_seq = token.texts_to_sequences(X_train)\n",
    "train_pad_seq = pad_sequences (x_train_seq, maxlen = max_len, padding = padding_type, truncating = trunc_type )\n",
    "x_test_seq = token.texts_to_sequences(X_test)\n",
    "test_pad_seq = pad_sequences(x_test_seq, maxlen = max_len,padding = padding_type, truncating = trunc_type)"
   ]
  },
  {
   "cell_type": "code",
   "execution_count": 35,
   "id": "8788c3c0",
   "metadata": {
    "execution": {
     "iopub.execute_input": "2023-12-04T20:26:22.467247Z",
     "iopub.status.busy": "2023-12-04T20:26:22.466862Z",
     "iopub.status.idle": "2023-12-04T20:26:22.472046Z",
     "shell.execute_reply": "2023-12-04T20:26:22.471137Z"
    },
    "id": "5W5mhapG4_ZZ",
    "outputId": "ed791ecb-5bf6-4819-f8fc-f35335fd00c1",
    "papermill": {
     "duration": 0.040971,
     "end_time": "2023-12-04T20:26:22.474121",
     "exception": false,
     "start_time": "2023-12-04T20:26:22.433150",
     "status": "completed"
    },
    "tags": []
   },
   "outputs": [
    {
     "name": "stdout",
     "output_type": "stream",
     "text": [
      "Shape of training tweets:  (9429, 20)\n",
      "Shape of testing tweets:  (2358, 20)\n"
     ]
    }
   ],
   "source": [
    "print('Shape of training tweets: ', train_pad_seq.shape)\n",
    "print('Shape of testing tweets: ', test_pad_seq.shape)"
   ]
  },
  {
   "cell_type": "code",
   "execution_count": 36,
   "id": "a400c74b",
   "metadata": {
    "execution": {
     "iopub.execute_input": "2023-12-04T20:26:22.542325Z",
     "iopub.status.busy": "2023-12-04T20:26:22.541996Z",
     "iopub.status.idle": "2023-12-04T20:26:22.547674Z",
     "shell.execute_reply": "2023-12-04T20:26:22.546796Z"
    },
    "id": "hJqBh-Je4_ZZ",
    "outputId": "ecce845b-88e0-4b49-9e92-04fa418f30f4",
    "papermill": {
     "duration": 0.04265,
     "end_time": "2023-12-04T20:26:22.550226",
     "exception": false,
     "start_time": "2023-12-04T20:26:22.507576",
     "status": "completed"
    },
    "tags": []
   },
   "outputs": [
    {
     "name": "stdout",
     "output_type": "stream",
     "text": [
      "Actual tweet:\n",
      " new study examining cannabis use pregnancy\n",
      "\n",
      "tweet sentence represented in terms of tokens and not padded :\n",
      "  [4, 926, 4833, 4834, 159, 2028]\n",
      "\n",
      "After padding : \n",
      " [   0    0    0    0    0    0    0    0    0    0    0    0    0    0\n",
      "    4  926 4833 4834  159 2028]\n"
     ]
    }
   ],
   "source": [
    "print('Actual tweet:\\n',X_train.iloc[5])\n",
    "print('\\ntweet sentence represented in terms of tokens and not padded :\\n ',x_train_seq[5])\n",
    "print('\\nAfter padding : \\n',train_pad_seq[5])"
   ]
  },
  {
   "cell_type": "code",
   "execution_count": 37,
   "id": "16220932",
   "metadata": {
    "execution": {
     "iopub.execute_input": "2023-12-04T20:26:22.618581Z",
     "iopub.status.busy": "2023-12-04T20:26:22.618259Z",
     "iopub.status.idle": "2023-12-04T20:26:22.624867Z",
     "shell.execute_reply": "2023-12-04T20:26:22.624212Z"
    },
    "id": "kkUxFv4N4_ZZ",
    "papermill": {
     "duration": 0.041751,
     "end_time": "2023-12-04T20:26:22.626806",
     "exception": false,
     "start_time": "2023-12-04T20:26:22.585055",
     "status": "completed"
    },
    "tags": []
   },
   "outputs": [],
   "source": [
    "from tensorflow.keras.callbacks import EarlyStopping\n",
    "from tensorflow.keras.models import Sequential\n",
    "from tensorflow.keras.layers import Embedding, GlobalAveragePooling1D, Dense, Dropout, LSTM, Bidirectional\n",
    "from sklearn.metrics import classification_report"
   ]
  },
  {
   "cell_type": "markdown",
   "id": "3dd41401",
   "metadata": {
    "id": "Uj65obV54_ZZ",
    "papermill": {
     "duration": 0.032882,
     "end_time": "2023-12-04T20:26:22.692305",
     "exception": false,
     "start_time": "2023-12-04T20:26:22.659423",
     "status": "completed"
    },
    "tags": []
   },
   "source": [
    "## Applying Model's:"
   ]
  },
  {
   "cell_type": "code",
   "execution_count": 38,
   "id": "cf6032f8",
   "metadata": {
    "execution": {
     "iopub.execute_input": "2023-12-04T20:26:22.758285Z",
     "iopub.status.busy": "2023-12-04T20:26:22.757996Z",
     "iopub.status.idle": "2023-12-04T20:27:33.508149Z",
     "shell.execute_reply": "2023-12-04T20:27:33.507322Z"
    },
    "id": "XYWWioRG4_Za",
    "outputId": "ff7018ff-898d-42b5-abdb-bbce49692a4d",
    "papermill": {
     "duration": 70.785735,
     "end_time": "2023-12-04T20:27:33.510299",
     "exception": false,
     "start_time": "2023-12-04T20:26:22.724564",
     "status": "completed"
    },
    "tags": []
   },
   "outputs": [
    {
     "name": "stdout",
     "output_type": "stream",
     "text": [
      "Model: \"sequential\"\n",
      "_________________________________________________________________\n",
      " Layer (type)                Output Shape              Param #   \n",
      "=================================================================\n",
      " embedding (Embedding)       (None, 20, 128)           2414080   \n",
      "                                                                 \n",
      " lstm (LSTM)                 (None, 128)               131584    \n",
      "                                                                 \n",
      " dense (Dense)               (None, 1)                 129       \n",
      "                                                                 \n",
      "=================================================================\n",
      "Total params: 2545793 (9.71 MB)\n",
      "Trainable params: 2545793 (9.71 MB)\n",
      "Non-trainable params: 0 (0.00 Byte)\n",
      "_________________________________________________________________\n",
      "Epoch 1/20\n",
      "295/295 - 28s - loss: 0.4933 - accuracy: 0.7554 - val_loss: 0.4001 - val_accuracy: 0.8223 - 28s/epoch - 94ms/step\n",
      "Epoch 2/20\n",
      "295/295 - 20s - loss: 0.2065 - accuracy: 0.9207 - val_loss: 0.4424 - val_accuracy: 0.8104 - 20s/epoch - 67ms/step\n",
      "Epoch 3/20\n",
      "295/295 - 20s - loss: 0.0728 - accuracy: 0.9743 - val_loss: 0.5827 - val_accuracy: 0.8109 - 20s/epoch - 69ms/step\n",
      "Epoch 4/20\n",
      "295/295 - 20s - loss: 0.0300 - accuracy: 0.9914 - val_loss: 0.7762 - val_accuracy: 0.8066 - 20s/epoch - 67ms/step\n",
      "Epoch 5/20\n",
      "295/295 - 20s - loss: 0.0195 - accuracy: 0.9926 - val_loss: 1.0167 - val_accuracy: 0.7981 - 20s/epoch - 67ms/step\n",
      "Epoch 6/20\n",
      "295/295 - 20s - loss: 0.0143 - accuracy: 0.9954 - val_loss: 1.0447 - val_accuracy: 0.8007 - 20s/epoch - 68ms/step\n",
      "Epoch 7/20\n",
      "295/295 - 20s - loss: 0.0108 - accuracy: 0.9964 - val_loss: 1.0856 - val_accuracy: 0.7939 - 20s/epoch - 67ms/step\n",
      "Epoch 8/20\n",
      "295/295 - 20s - loss: 0.0105 - accuracy: 0.9967 - val_loss: 1.2048 - val_accuracy: 0.7935 - 20s/epoch - 68ms/step\n",
      "Epoch 9/20\n",
      "295/295 - 20s - loss: 0.0166 - accuracy: 0.9952 - val_loss: 1.0556 - val_accuracy: 0.7926 - 20s/epoch - 67ms/step\n",
      "Epoch 10/20\n",
      "295/295 - 20s - loss: 0.0150 - accuracy: 0.9949 - val_loss: 0.9219 - val_accuracy: 0.7990 - 20s/epoch - 66ms/step\n",
      "Epoch 11/20\n",
      "295/295 - 21s - loss: 0.0076 - accuracy: 0.9975 - val_loss: 1.0979 - val_accuracy: 0.7964 - 21s/epoch - 70ms/step\n",
      "Epoch 12/20\n",
      "295/295 - 20s - loss: 0.0067 - accuracy: 0.9979 - val_loss: 1.3235 - val_accuracy: 0.7875 - 20s/epoch - 67ms/step\n",
      "Epoch 13/20\n",
      "295/295 - 20s - loss: 0.0063 - accuracy: 0.9978 - val_loss: 1.2634 - val_accuracy: 0.7909 - 20s/epoch - 66ms/step\n",
      "Epoch 14/20\n",
      "295/295 - 20s - loss: 0.0055 - accuracy: 0.9979 - val_loss: 1.3393 - val_accuracy: 0.7892 - 20s/epoch - 67ms/step\n",
      "Epoch 15/20\n",
      "295/295 - 20s - loss: 0.0055 - accuracy: 0.9980 - val_loss: 1.3377 - val_accuracy: 0.7880 - 20s/epoch - 67ms/step\n",
      "Epoch 16/20\n",
      "295/295 - 20s - loss: 0.0053 - accuracy: 0.9981 - val_loss: 1.4077 - val_accuracy: 0.7892 - 20s/epoch - 68ms/step\n",
      "Epoch 17/20\n",
      "295/295 - 20s - loss: 0.0050 - accuracy: 0.9982 - val_loss: 1.5028 - val_accuracy: 0.7875 - 20s/epoch - 67ms/step\n",
      "Epoch 18/20\n",
      "295/295 - 20s - loss: 0.0059 - accuracy: 0.9979 - val_loss: 1.3210 - val_accuracy: 0.7952 - 20s/epoch - 67ms/step\n",
      "Epoch 19/20\n",
      "295/295 - 20s - loss: 0.0078 - accuracy: 0.9972 - val_loss: 1.1517 - val_accuracy: 0.7871 - 20s/epoch - 67ms/step\n",
      "Epoch 20/20\n",
      "295/295 - 19s - loss: 0.0068 - accuracy: 0.9979 - val_loss: 1.2055 - val_accuracy: 0.7774 - 19s/epoch - 64ms/step\n"
     ]
    }
   ],
   "source": [
    "Earn_lstm=128\n",
    "embeding_dim =128\n",
    "drop_lstm =0.2\n",
    "model = Sequential()\n",
    "model.add(Embedding(vocab_size, embeding_dim, input_length=max_len))\n",
    "model.add(LSTM(n_lstm, dropout=drop_lstm,return_sequences=False))\n",
    "\n",
    "model.add(Dense(1, activation='sigmoid'))\n",
    "model.summary()\n",
    "\n",
    "model.compile(loss = 'binary_crossentropy', optimizer = 'adam', metrics=['accuracy'])\n",
    "num_epochs = 20\n",
    "history = model.fit(train_pad_seq,Y_train, epochs=num_epochs,validation_data=(test_pad_seq, Y_test), verbose=2)"
   ]
  },
  {
   "cell_type": "code",
   "execution_count": 39,
   "id": "52e6a712",
   "metadata": {
    "execution": {
     "iopub.execute_input": "2023-12-04T20:27:33.588180Z",
     "iopub.status.busy": "2023-12-04T20:27:33.587808Z",
     "iopub.status.idle": "2023-12-04T20:27:35.604062Z",
     "shell.execute_reply": "2023-12-04T20:27:35.603045Z"
    },
    "id": "dOk4rmRx4_Zb",
    "papermill": {
     "duration": 2.058174,
     "end_time": "2023-12-04T20:27:35.606287",
     "exception": false,
     "start_time": "2023-12-04T20:27:33.548113",
     "status": "completed"
    },
    "scrolled": false,
    "tags": []
   },
   "outputs": [
    {
     "name": "stdout",
     "output_type": "stream",
     "text": [
      "Training Results\n",
      "              precision    recall  f1-score   support\n",
      "\n",
      "           0     0.9966    0.9946    0.9956      4786\n",
      "           1     0.9944    0.9966    0.9955      4643\n",
      "\n",
      "    accuracy                         0.9955      9429\n",
      "   macro avg     0.9955    0.9956    0.9955      9429\n",
      "weighted avg     0.9955    0.9955    0.9955      9429\n",
      "\n"
     ]
    },
    {
     "data": {
      "image/png": "[encoded data removed]",
      "text/plain": [
       "<Figure size 640x480 with 2 Axes>"
      ]
     },
     "metadata": {},
     "output_type": "display_data"
    },
    {
     "name": "stdout",
     "output_type": "stream",
     "text": [
      "Testing Results\n",
      "              precision    recall  f1-score   support\n",
      "\n",
      "           0     0.8022    0.7452    0.7726      1197\n",
      "           1     0.7552    0.8105    0.7819      1161\n",
      "\n",
      "    accuracy                         0.7774      2358\n",
      "   macro avg     0.7787    0.7779    0.7773      2358\n",
      "weighted avg     0.7790    0.7774    0.7772      2358\n",
      "\n"
     ]
    },
    {
     "data": {
      "image/png": "[encoded data removed]",
      "text/plain": [
       "<Figure size 640x480 with 2 Axes>"
      ]
     },
     "metadata": {},
     "output_type": "display_data"
    }
   ],
   "source": [
    "from sklearn.metrics import confusion_matrix, ConfusionMatrixDisplay\n",
    "print(\"Training Results\")\n",
    "yhat_probs = model.predict(train_pad_seq, verbose=0)\n",
    "pred = np.where(yhat_probs>0.5,1,0)\n",
    "matrix = classification_report(Y_train, pred,digits =4)\n",
    "print(matrix)\n",
    "\n",
    "cm = confusion_matrix(Y_train, pred)\n",
    "disp = ConfusionMatrixDisplay(confusion_matrix=cm,display_labels=[\"Non Spam\",\"Spam\"])\n",
    "disp.plot()\n",
    "plt.show()\n",
    "\n",
    "print(\"Testing Results\")\n",
    "yhat_probs = model.predict(test_pad_seq, verbose=0)\n",
    "pred = np.where(yhat_probs>0.5,1,0)\n",
    "matrix = classification_report(Y_test, pred,digits =4)\n",
    "print(matrix)\n",
    "\n",
    "cm = confusion_matrix(Y_test, pred)\n",
    "disp = ConfusionMatrixDisplay(confusion_matrix=cm,display_labels=[\"Non Spam\",\"Spam\"])\n",
    "disp.plot()\n",
    "plt.show()\n",
    "model.save(\"lstm1.h5\")"
   ]
  },
  {
   "cell_type": "code",
   "execution_count": 40,
   "id": "78a17c5f",
   "metadata": {
    "execution": {
     "iopub.execute_input": "2023-12-04T20:27:35.687429Z",
     "iopub.status.busy": "2023-12-04T20:27:35.686619Z",
     "iopub.status.idle": "2023-12-04T20:28:28.618282Z",
     "shell.execute_reply": "2023-12-04T20:28:28.617305Z"
    },
    "papermill": {
     "duration": 52.974634,
     "end_time": "2023-12-04T20:28:28.620425",
     "exception": false,
     "start_time": "2023-12-04T20:27:35.645791",
     "status": "completed"
    },
    "tags": []
   },
   "outputs": [
    {
     "name": "stdout",
     "output_type": "stream",
     "text": [
      "Model: \"sequential_1\"\n",
      "_________________________________________________________________\n",
      " Layer (type)                Output Shape              Param #   \n",
      "=================================================================\n",
      " embedding_1 (Embedding)     (None, 20, 128)           2414080   \n",
      "                                                                 \n",
      " lstm_1 (LSTM)               (None, 256)               394240    \n",
      "                                                                 \n",
      " dense_1 (Dense)             (None, 1)                 257       \n",
      "                                                                 \n",
      "=================================================================\n",
      "Total params: 2808577 (10.71 MB)\n",
      "Trainable params: 2808577 (10.71 MB)\n",
      "Non-trainable params: 0 (0.00 Byte)\n",
      "_________________________________________________________________\n",
      "Epoch 1/20\n",
      "295/295 - 34s - loss: 0.4860 - accuracy: 0.7544 - val_loss: 0.3960 - val_accuracy: 0.8244 - 34s/epoch - 114ms/step\n",
      "Epoch 2/20\n",
      "295/295 - 25s - loss: 0.2032 - accuracy: 0.9233 - val_loss: 0.4331 - val_accuracy: 0.8244 - 25s/epoch - 84ms/step\n",
      "Epoch 3/20\n",
      "295/295 - 25s - loss: 0.0771 - accuracy: 0.9738 - val_loss: 0.6198 - val_accuracy: 0.8075 - 25s/epoch - 83ms/step\n",
      "Epoch 4/20\n",
      "295/295 - 32s - loss: 0.0301 - accuracy: 0.9900 - val_loss: 0.7507 - val_accuracy: 0.8185 - 32s/epoch - 107ms/step\n",
      "Epoch 5/20\n",
      "295/295 - 32s - loss: 0.0187 - accuracy: 0.9942 - val_loss: 0.6942 - val_accuracy: 0.7952 - 32s/epoch - 110ms/step\n",
      "Epoch 6/20\n",
      "295/295 - 34s - loss: 0.0162 - accuracy: 0.9948 - val_loss: 1.0702 - val_accuracy: 0.8049 - 34s/epoch - 114ms/step\n",
      "Epoch 7/20\n",
      "295/295 - 33s - loss: 0.0146 - accuracy: 0.9952 - val_loss: 0.8761 - val_accuracy: 0.8104 - 33s/epoch - 112ms/step\n",
      "Epoch 8/20\n",
      "295/295 - 32s - loss: 0.0092 - accuracy: 0.9971 - val_loss: 0.9505 - val_accuracy: 0.8011 - 32s/epoch - 108ms/step\n",
      "Epoch 9/20\n",
      "295/295 - 32s - loss: 0.0068 - accuracy: 0.9979 - val_loss: 1.0762 - val_accuracy: 0.8032 - 32s/epoch - 110ms/step\n",
      "Epoch 10/20\n",
      "295/295 - 32s - loss: 0.0061 - accuracy: 0.9973 - val_loss: 1.2317 - val_accuracy: 0.7994 - 32s/epoch - 110ms/step\n",
      "Epoch 11/20\n",
      "295/295 - 33s - loss: 0.0057 - accuracy: 0.9981 - val_loss: 1.2782 - val_accuracy: 0.7969 - 33s/epoch - 111ms/step\n",
      "Epoch 12/20\n",
      "295/295 - 32s - loss: 0.0050 - accuracy: 0.9982 - val_loss: 1.3131 - val_accuracy: 0.7905 - 32s/epoch - 109ms/step\n",
      "Epoch 13/20\n",
      "295/295 - 32s - loss: 0.0068 - accuracy: 0.9975 - val_loss: 1.0339 - val_accuracy: 0.7846 - 32s/epoch - 110ms/step\n",
      "Epoch 14/20\n",
      "295/295 - 32s - loss: 0.0154 - accuracy: 0.9945 - val_loss: 1.0341 - val_accuracy: 0.7841 - 32s/epoch - 110ms/step\n",
      "Epoch 15/20\n",
      "295/295 - 32s - loss: 0.0114 - accuracy: 0.9961 - val_loss: 1.1178 - val_accuracy: 0.7998 - 32s/epoch - 110ms/step\n",
      "Epoch 16/20\n",
      "295/295 - 34s - loss: 0.0061 - accuracy: 0.9980 - val_loss: 1.1496 - val_accuracy: 0.7969 - 34s/epoch - 114ms/step\n",
      "Epoch 17/20\n",
      "295/295 - 34s - loss: 0.0050 - accuracy: 0.9982 - val_loss: 1.1853 - val_accuracy: 0.7960 - 34s/epoch - 114ms/step\n",
      "Epoch 18/20\n",
      "295/295 - 33s - loss: 0.0046 - accuracy: 0.9982 - val_loss: 1.1914 - val_accuracy: 0.7986 - 33s/epoch - 111ms/step\n",
      "Epoch 19/20\n",
      "295/295 - 34s - loss: 0.0047 - accuracy: 0.9982 - val_loss: 1.2016 - val_accuracy: 0.7969 - 34s/epoch - 115ms/step\n",
      "Epoch 20/20\n",
      "295/295 - 36s - loss: 0.0044 - accuracy: 0.9981 - val_loss: 1.2103 - val_accuracy: 0.7922 - 36s/epoch - 120ms/step\n"
     ]
    }
   ],
   "source": [
    "n_lstm=256\n",
    "embeding_dim =128\n",
    "drop_lstm =0.2\n",
    "model1 = Sequential()\n",
    "model1.add(Embedding(vocab_size, embeding_dim, input_length=max_len))\n",
    "model1.add(LSTM(n_lstm, dropout=drop_lstm,return_sequences=False))\n",
    "\n",
    "model1.add(Dense(1, activation='sigmoid'))\n",
    "model1.summary()\n",
    "\n",
    "model1.compile(loss = 'binary_crossentropy', optimizer = 'adam', metrics=['accuracy'])\n",
    "num_epochs = 20\n",
    "history = model1.fit(train_pad_seq,Y_train, epochs=num_epochs,validation_data=(test_pad_seq, Y_test), verbose=2)"
   ]
  },
  {
   "cell_type": "code",
   "execution_count": 41,
   "id": "2daeed66",
   "metadata": {
    "execution": {
     "iopub.execute_input": "2023-12-04T20:28:28.707511Z",
     "iopub.status.busy": "2023-12-04T20:28:28.707061Z",
     "iopub.status.idle": "2023-12-04T20:28:30.534743Z",
     "shell.execute_reply": "2023-12-04T20:28:30.533960Z"
    },
    "papermill": {
     "duration": 1.873898,
     "end_time": "2023-12-04T20:28:30.537044",
     "exception": false,
     "start_time": "2023-12-04T20:28:28.663146",
     "status": "completed"
    },
    "tags": []
   },
   "outputs": [
    {
     "name": "stdout",
     "output_type": "stream",
     "text": [
      "Training Results\n",
      "              precision    recall  f1-score   support\n",
      "\n",
      "           0     0.9969    0.9996    0.9982      4786\n",
      "           1     0.9996    0.9968    0.9982      4643\n",
      "\n",
      "    accuracy                         0.9982      9429\n",
      "   macro avg     0.9982    0.9982    0.9982      9429\n",
      "weighted avg     0.9982    0.9982    0.9982      9429\n",
      "\n"
     ]
    },
    {
     "data": {
      "image/png": "[encoded data removed]",
      "text/plain": [
       "<Figure size 640x480 with 2 Axes>"
      ]
     },
     "metadata": {},
     "output_type": "display_data"
    },
    {
     "name": "stdout",
     "output_type": "stream",
     "text": [
      "Testing Results\n",
      "              precision    recall  f1-score   support\n",
      "\n",
      "           0     0.7919    0.8012    0.7965      1197\n",
      "           1     0.7925    0.7829    0.7877      1161\n",
      "\n",
      "    accuracy                         0.7922      2358\n",
      "   macro avg     0.7922    0.7921    0.7921      2358\n",
      "weighted avg     0.7922    0.7922    0.7922      2358\n",
      "\n"
     ]
    },
    {
     "data": {
      "image/png": "[encoded data removed]",
      "text/plain": [
       "<Figure size 640x480 with 2 Axes>"
      ]
     },
     "metadata": {},
     "output_type": "display_data"
    }
   ],
   "source": [
    "from sklearn.metrics import confusion_matrix, ConfusionMatrixDisplay\n",
    "print(\"Training Results\")\n",
    "yhat_probs = model1.predict(train_pad_seq, verbose=0)\n",
    "pred = np.where(yhat_probs>0.5,1,0)\n",
    "matrix = classification_report(Y_train, pred,digits =4)\n",
    "print(matrix)\n",
    "\n",
    "cm = confusion_matrix(Y_train, pred)\n",
    "disp = ConfusionMatrixDisplay(confusion_matrix=cm,display_labels=[\"Non Spam\",\"Spam\"])\n",
    "disp.plot()\n",
    "plt.show()\n",
    "\n",
    "print(\"Testing Results\")\n",
    "yhat_probs = model1.predict(test_pad_seq, verbose=0)\n",
    "pred = np.where(yhat_probs>0.5,1,0)\n",
    "matrix = classification_report(Y_test, pred,digits =4)\n",
    "print(matrix)\n",
    "\n",
    "cm = confusion_matrix(Y_test, pred)\n",
    "disp = ConfusionMatrixDisplay(confusion_matrix=cm,display_labels=[\"Non Spam\",\"Spam\"])\n",
    "disp.plot()\n",
    "plt.show()\n",
    "model1.save(\"lstm2.h5\")"
   ]
  },
  {
   "cell_type": "markdown",
   "id": "aa433fff",
   "metadata": {
    "id": "jvhxItMi4_Zc",
    "papermill": {
     "duration": 0.04329,
     "end_time": "2023-12-04T20:28:30.624404",
     "exception": false,
     "start_time": "2023-12-04T20:28:30.581114",
     "status": "completed"
    },
    "tags": []
   },
   "source": [
    "# Bi-Directional LSTM's"
   ]
  },
  {
   "cell_type": "code",
   "execution_count": 42,
   "id": "c09a048b",
   "metadata": {
    "execution": {
     "iopub.execute_input": "2023-12-04T20:28:30.714087Z",
     "iopub.status.busy": "2023-12-04T20:28:30.713659Z",
     "iopub.status.idle": "2023-12-04T20:30:59.794237Z",
     "shell.execute_reply": "2023-12-04T20:30:59.793295Z"
    },
    "id": "arwVQAh04_Zc",
    "papermill": {
     "duration": 149.128447,
     "end_time": "2023-12-04T20:30:59.796750",
     "exception": false,
     "start_time": "2023-12-04T20:28:30.668303",
     "status": "completed"
    },
    "tags": []
   },
   "outputs": [
    {
     "name": "stdout",
     "output_type": "stream",
     "text": [
      "Model: \"sequential_2\"\n",
      "_________________________________________________________________\n",
      " Layer (type)                Output Shape              Param #   \n",
      "=================================================================\n",
      " embedding_2 (Embedding)     (None, 20, 128)           2414080   \n",
      "                                                                 \n",
      " bidirectional (Bidirection  (None, 20, 256)           263168    \n",
      " al)                                                             \n",
      "                                                                 \n",
      " bidirectional_1 (Bidirecti  (None, 256)               394240    \n",
      " onal)                                                           \n",
      "                                                                 \n",
      " dense_2 (Dense)             (None, 1)                 257       \n",
      "                                                                 \n",
      "=================================================================\n",
      "Total params: 3071745 (11.72 MB)\n",
      "Trainable params: 3071745 (11.72 MB)\n",
      "Non-trainable params: 0 (0.00 Byte)\n",
      "_________________________________________________________________\n",
      "Epoch 1/20\n",
      "295/295 - 65s - loss: 0.4806 - accuracy: 0.7633 - val_loss: 0.4080 - val_accuracy: 0.8185 - 65s/epoch - 220ms/step\n",
      "Epoch 2/20\n",
      "295/295 - 42s - loss: 0.1864 - accuracy: 0.9311 - val_loss: 0.5047 - val_accuracy: 0.8024 - 42s/epoch - 142ms/step\n",
      "Epoch 3/20\n",
      "295/295 - 40s - loss: 0.0736 - accuracy: 0.9754 - val_loss: 0.5900 - val_accuracy: 0.7964 - 40s/epoch - 137ms/step\n",
      "Epoch 4/20\n",
      "295/295 - 40s - loss: 0.0369 - accuracy: 0.9888 - val_loss: 0.7818 - val_accuracy: 0.7973 - 40s/epoch - 137ms/step\n",
      "Epoch 5/20\n",
      "295/295 - 40s - loss: 0.0271 - accuracy: 0.9910 - val_loss: 0.7535 - val_accuracy: 0.7905 - 40s/epoch - 137ms/step\n",
      "Epoch 6/20\n",
      "295/295 - 41s - loss: 0.0192 - accuracy: 0.9943 - val_loss: 0.9735 - val_accuracy: 0.7918 - 41s/epoch - 137ms/step\n",
      "Epoch 7/20\n",
      "295/295 - 40s - loss: 0.0129 - accuracy: 0.9959 - val_loss: 1.1006 - val_accuracy: 0.7668 - 40s/epoch - 137ms/step\n",
      "Epoch 8/20\n",
      "295/295 - 40s - loss: 0.0143 - accuracy: 0.9949 - val_loss: 1.0386 - val_accuracy: 0.7939 - 40s/epoch - 135ms/step\n",
      "Epoch 9/20\n",
      "295/295 - 40s - loss: 0.0118 - accuracy: 0.9958 - val_loss: 1.0024 - val_accuracy: 0.7926 - 40s/epoch - 136ms/step\n",
      "Epoch 10/20\n",
      "295/295 - 41s - loss: 0.0091 - accuracy: 0.9973 - val_loss: 1.3125 - val_accuracy: 0.7926 - 41s/epoch - 137ms/step\n",
      "Epoch 11/20\n",
      "295/295 - 40s - loss: 0.0082 - accuracy: 0.9972 - val_loss: 1.2460 - val_accuracy: 0.7913 - 40s/epoch - 136ms/step\n",
      "Epoch 12/20\n",
      "295/295 - 40s - loss: 0.0092 - accuracy: 0.9970 - val_loss: 1.3156 - val_accuracy: 0.7897 - 40s/epoch - 136ms/step\n",
      "Epoch 13/20\n",
      "295/295 - 40s - loss: 0.0074 - accuracy: 0.9976 - val_loss: 1.3740 - val_accuracy: 0.7947 - 40s/epoch - 137ms/step\n",
      "Epoch 14/20\n",
      "295/295 - 41s - loss: 0.0056 - accuracy: 0.9980 - val_loss: 1.4308 - val_accuracy: 0.7909 - 41s/epoch - 138ms/step\n",
      "Epoch 15/20\n",
      "295/295 - 41s - loss: 0.0097 - accuracy: 0.9963 - val_loss: 1.2042 - val_accuracy: 0.7757 - 41s/epoch - 138ms/step\n",
      "Epoch 16/20\n",
      "295/295 - 40s - loss: 0.0082 - accuracy: 0.9972 - val_loss: 1.3485 - val_accuracy: 0.7833 - 40s/epoch - 137ms/step\n",
      "Epoch 17/20\n",
      "295/295 - 40s - loss: 0.0063 - accuracy: 0.9978 - val_loss: 1.4679 - val_accuracy: 0.7807 - 40s/epoch - 135ms/step\n",
      "Epoch 18/20\n",
      "295/295 - 40s - loss: 0.0049 - accuracy: 0.9981 - val_loss: 1.5105 - val_accuracy: 0.7926 - 40s/epoch - 137ms/step\n",
      "Epoch 19/20\n",
      "295/295 - 41s - loss: 0.0068 - accuracy: 0.9975 - val_loss: 1.6591 - val_accuracy: 0.7608 - 41s/epoch - 138ms/step\n",
      "Epoch 20/20\n",
      "295/295 - 41s - loss: 0.0093 - accuracy: 0.9968 - val_loss: 1.1645 - val_accuracy: 0.7922 - 41s/epoch - 140ms/step\n"
     ]
    }
   ],
   "source": [
    "n_lstm=128\n",
    "embeding_dim =128\n",
    "drop_lstm =0.2\n",
    "model2 = Sequential()\n",
    "model2.add(Embedding(vocab_size, embeding_dim, input_length=max_len))\n",
    "model2.add(Bidirectional(LSTM(n_lstm, dropout=drop_lstm, return_sequences=True)))\n",
    "model2.add(Bidirectional(LSTM(n_lstm, dropout=drop_lstm,return_sequences=False)))\n",
    "\n",
    "model2.add(Dense(1, activation='sigmoid'))\n",
    "model2.compile(loss = 'binary_crossentropy', optimizer = 'adam', metrics=['accuracy'])\n",
    "model2.summary()\n",
    "\n",
    "num_epochs = 20\n",
    "history = model2.fit(train_pad_seq, Y_train, epochs=num_epochs, validation_data=(test_pad_seq, Y_test), verbose=2)"
   ]
  },
  {
   "cell_type": "code",
   "execution_count": 43,
   "id": "a9e78246",
   "metadata": {
    "execution": {
     "iopub.execute_input": "2023-12-04T20:30:59.894473Z",
     "iopub.status.busy": "2023-12-04T20:30:59.894120Z",
     "iopub.status.idle": "2023-12-04T20:31:03.375993Z",
     "shell.execute_reply": "2023-12-04T20:31:03.375003Z"
    },
    "papermill": {
     "duration": 3.533335,
     "end_time": "2023-12-04T20:31:03.378311",
     "exception": false,
     "start_time": "2023-12-04T20:30:59.844976",
     "status": "completed"
    },
    "tags": []
   },
   "outputs": [
    {
     "name": "stdout",
     "output_type": "stream",
     "text": [
      "Training Results\n",
      "              precision    recall  f1-score   support\n",
      "\n",
      "           0     0.9946    0.9998    0.9972      4786\n",
      "           1     0.9998    0.9944    0.9971      4643\n",
      "\n",
      "    accuracy                         0.9971      9429\n",
      "   macro avg     0.9972    0.9971    0.9971      9429\n",
      "weighted avg     0.9972    0.9971    0.9971      9429\n",
      "\n"
     ]
    },
    {
     "data": {
      "image/png": "[encoded data removed]",
      "text/plain": [
       "<Figure size 640x480 with 2 Axes>"
      ]
     },
     "metadata": {},
     "output_type": "display_data"
    },
    {
     "name": "stdout",
     "output_type": "stream",
     "text": [
      "Testing Results\n",
      "              precision    recall  f1-score   support\n",
      "\n",
      "           0     0.7817    0.8195    0.8002      1197\n",
      "           1     0.8042    0.7640    0.7836      1161\n",
      "\n",
      "    accuracy                         0.7922      2358\n",
      "   macro avg     0.7929    0.7918    0.7919      2358\n",
      "weighted avg     0.7928    0.7922    0.7920      2358\n",
      "\n"
     ]
    },
    {
     "data": {
      "image/png": "[encoded data removed]",
      "text/plain": [
       "<Figure size 640x480 with 2 Axes>"
      ]
     },
     "metadata": {},
     "output_type": "display_data"
    }
   ],
   "source": [
    "print(\"Training Results\")\n",
    "yhat_probs = model2.predict(train_pad_seq, verbose=0)\n",
    "pred = np.where(yhat_probs>0.5,1,0)\n",
    "matrix = classification_report(Y_train, pred,digits =4)\n",
    "print(matrix)\n",
    "\n",
    "cm = confusion_matrix(Y_train, pred)\n",
    "disp = ConfusionMatrixDisplay(confusion_matrix=cm,display_labels=[\"Non Spam\",\"Spam\"])\n",
    "disp.plot()\n",
    "plt.show()\n",
    "\n",
    "print(\"Testing Results\")\n",
    "yhat_probs = model2.predict(test_pad_seq, verbose=0)\n",
    "pred = np.where(yhat_probs>0.5,1,0)\n",
    "matrix = classification_report(Y_test, pred,digits =4)\n",
    "print(matrix)\n",
    "\n",
    "cm = confusion_matrix(Y_test, pred)\n",
    "disp = ConfusionMatrixDisplay(confusion_matrix=cm,display_labels=[\"Non Spam\",\"Spam\"])\n",
    "disp.plot()\n",
    "plt.show()\n",
    "\n",
    "model2.save(\"bi-lstm1.h5\")"
   ]
  },
  {
   "cell_type": "code",
   "execution_count": 44,
   "id": "6d5ce3bc",
   "metadata": {
    "execution": {
     "iopub.execute_input": "2023-12-04T20:31:03.480506Z",
     "iopub.status.busy": "2023-12-04T20:31:03.479766Z",
     "iopub.status.idle": "2023-12-04T20:32:39.890723Z",
     "shell.execute_reply": "2023-12-04T20:32:39.889960Z"
    },
    "papermill": {
     "duration": 96.463008,
     "end_time": "2023-12-04T20:32:39.892738",
     "exception": false,
     "start_time": "2023-12-04T20:31:03.429730",
     "status": "completed"
    },
    "tags": []
   },
   "outputs": [
    {
     "name": "stdout",
     "output_type": "stream",
     "text": [
      "Model: \"sequential_3\"\n",
      "_________________________________________________________________\n",
      " Layer (type)                Output Shape              Param #   \n",
      "=================================================================\n",
      " embedding_3 (Embedding)     (None, 20, 128)           2414080   \n",
      "                                                                 \n",
      " bidirectional_2 (Bidirecti  (None, 20, 512)           788480    \n",
      " onal)                                                           \n",
      "                                                                 \n",
      " bidirectional_3 (Bidirecti  (None, 512)               1574912   \n",
      " onal)                                                           \n",
      "                                                                 \n",
      " dense_3 (Dense)             (None, 1)                 513       \n",
      "                                                                 \n",
      "=================================================================\n",
      "Total params: 4777985 (18.23 MB)\n",
      "Trainable params: 4777985 (18.23 MB)\n",
      "Non-trainable params: 0 (0.00 Byte)\n",
      "_________________________________________________________________\n",
      "Epoch 1/20\n",
      "295/295 - 151s - loss: 0.4769 - accuracy: 0.7654 - val_loss: 0.4133 - val_accuracy: 0.8134 - 151s/epoch - 511ms/step\n",
      "Epoch 2/20\n",
      "295/295 - 129s - loss: 0.1824 - accuracy: 0.9329 - val_loss: 0.4931 - val_accuracy: 0.7846 - 129s/epoch - 439ms/step\n",
      "Epoch 3/20\n",
      "295/295 - 126s - loss: 0.0631 - accuracy: 0.9777 - val_loss: 0.7721 - val_accuracy: 0.7451 - 126s/epoch - 428ms/step\n",
      "Epoch 4/20\n",
      "295/295 - 128s - loss: 0.0407 - accuracy: 0.9870 - val_loss: 0.7894 - val_accuracy: 0.7718 - 128s/epoch - 435ms/step\n",
      "Epoch 5/20\n",
      "295/295 - 126s - loss: 0.0243 - accuracy: 0.9928 - val_loss: 0.8979 - val_accuracy: 0.7769 - 126s/epoch - 428ms/step\n",
      "Epoch 6/20\n",
      "295/295 - 125s - loss: 0.0139 - accuracy: 0.9952 - val_loss: 1.1355 - val_accuracy: 0.7735 - 125s/epoch - 424ms/step\n",
      "Epoch 7/20\n",
      "295/295 - 129s - loss: 0.0109 - accuracy: 0.9964 - val_loss: 1.2745 - val_accuracy: 0.7735 - 129s/epoch - 438ms/step\n",
      "Epoch 8/20\n",
      "295/295 - 127s - loss: 0.0114 - accuracy: 0.9963 - val_loss: 0.8842 - val_accuracy: 0.7608 - 127s/epoch - 430ms/step\n",
      "Epoch 9/20\n",
      "295/295 - 125s - loss: 0.0229 - accuracy: 0.9931 - val_loss: 1.2288 - val_accuracy: 0.7909 - 125s/epoch - 423ms/step\n",
      "Epoch 10/20\n",
      "295/295 - 128s - loss: 0.0139 - accuracy: 0.9954 - val_loss: 1.0307 - val_accuracy: 0.7740 - 128s/epoch - 435ms/step\n",
      "Epoch 11/20\n",
      "295/295 - 238s - loss: 0.0133 - accuracy: 0.9949 - val_loss: 1.1825 - val_accuracy: 0.7905 - 238s/epoch - 805ms/step\n",
      "Epoch 12/20\n",
      "295/295 - 115s - loss: 0.0091 - accuracy: 0.9966 - val_loss: 1.3390 - val_accuracy: 0.7680 - 115s/epoch - 391ms/step\n",
      "Epoch 13/20\n",
      "295/295 - 127s - loss: 0.0057 - accuracy: 0.9979 - val_loss: 1.4588 - val_accuracy: 0.7668 - 127s/epoch - 432ms/step\n",
      "Epoch 14/20\n",
      "295/295 - 128s - loss: 0.0053 - accuracy: 0.9980 - val_loss: 1.5475 - val_accuracy: 0.7676 - 128s/epoch - 433ms/step\n",
      "Epoch 15/20\n",
      "295/295 - 128s - loss: 0.0052 - accuracy: 0.9983 - val_loss: 1.6382 - val_accuracy: 0.7621 - 128s/epoch - 432ms/step\n",
      "Epoch 16/20\n",
      "295/295 - 128s - loss: 0.0054 - accuracy: 0.9981 - val_loss: 1.5519 - val_accuracy: 0.7625 - 128s/epoch - 434ms/step\n",
      "Epoch 17/20\n",
      "295/295 - 128s - loss: 0.0159 - accuracy: 0.9942 - val_loss: 1.4187 - val_accuracy: 0.7578 - 128s/epoch - 434ms/step\n",
      "Epoch 18/20\n",
      "295/295 - 128s - loss: 0.0111 - accuracy: 0.9967 - val_loss: 1.3323 - val_accuracy: 0.7612 - 128s/epoch - 435ms/step\n",
      "Epoch 19/20\n",
      "295/295 - 128s - loss: 0.0080 - accuracy: 0.9971 - val_loss: 1.4741 - val_accuracy: 0.7634 - 128s/epoch - 434ms/step\n",
      "Epoch 20/20\n",
      "295/295 - 128s - loss: 0.0056 - accuracy: 0.9978 - val_loss: 1.5604 - val_accuracy: 0.7655 - 128s/epoch - 433ms/step\n"
     ]
    }
   ],
   "source": [
    "n_lstm=256\n",
    "embeding_dim =128\n",
    "drop_lstm =0.2\n",
    "model3 = Sequential()\n",
    "model3.add(Embedding(vocab_size, embeding_dim, input_length=max_len))\n",
    "model3.add(Bidirectional(LSTM(n_lstm, dropout=drop_lstm, return_sequences=True)))\n",
    "model3.add(Bidirectional(LSTM(n_lstm, dropout=drop_lstm,return_sequences=False)))\n",
    "\n",
    "model3.add(Dense(1, activation='sigmoid'))\n",
    "model3.compile(loss = 'binary_crossentropy', optimizer = 'adam', metrics=['accuracy'])\n",
    "model3.summary()\n",
    "\n",
    "num_epochs = 20\n",
    "history = model3.fit(train_pad_seq, Y_train, epochs=num_epochs, validation_data=(test_pad_seq, Y_test), verbose=2)"
   ]
  },
  {
   "cell_type": "code",
   "execution_count": 45,
   "id": "2ddca500",
   "metadata": {
    "execution": {
     "iopub.execute_input": "2023-12-04T20:32:40.001324Z",
     "iopub.status.busy": "2023-12-04T20:32:40.000513Z",
     "iopub.status.idle": "2023-12-04T20:32:43.602623Z",
     "shell.execute_reply": "2023-12-04T20:32:43.601816Z"
    },
    "papermill": {
     "duration": 3.658562,
     "end_time": "2023-12-04T20:32:43.604941",
     "exception": false,
     "start_time": "2023-12-04T20:32:39.946379",
     "status": "completed"
    },
    "tags": []
   },
   "outputs": [
    {
     "name": "stdout",
     "output_type": "stream",
     "text": [
      "Training Results\n",
      "              precision    recall  f1-score   support\n",
      "\n",
      "           0     0.9969    0.9998    0.9983      4786\n",
      "           1     0.9998    0.9968    0.9983      4643\n",
      "\n",
      "    accuracy                         0.9983      9429\n",
      "   macro avg     0.9983    0.9983    0.9983      9429\n",
      "weighted avg     0.9983    0.9983    0.9983      9429\n",
      "\n"
     ]
    },
    {
     "data": {
      "image/png": "[encoded data removed]",
      "text/plain": [
       "<Figure size 640x480 with 2 Axes>"
      ]
     },
     "metadata": {},
     "output_type": "display_data"
    },
    {
     "name": "stdout",
     "output_type": "stream",
     "text": [
      "Testing Results\n",
      "              precision    recall  f1-score   support\n",
      "\n",
      "           0     0.7933    0.7277    0.7590      1197\n",
      "           1     0.7413    0.8045    0.7716      1161\n",
      "\n",
      "    accuracy                         0.7655      2358\n",
      "   macro avg     0.7673    0.7661    0.7653      2358\n",
      "weighted avg     0.7677    0.7655    0.7652      2358\n",
      "\n"
     ]
    },
    {
     "data": {
      "image/png": "[encoded data removed]",
      "text/plain": [
       "<Figure size 640x480 with 2 Axes>"
      ]
     },
     "metadata": {},
     "output_type": "display_data"
    }
   ],
   "source": [
    "\n",
    "\n",
    "\n",
    "print(\"Training Results\")\n",
    "yhat_probs = model3.predict(train_pad_seq, verbose=0)\n",
    "pred = np.where(yhat_probs>0.5,1,0)\n",
    "matrix = classification_report(Y_train, pred,digits =4)\n",
    "print(matrix)\n",
    "\n",
    "cm = confusion_matrix(Y_train, pred)\n",
    "disp = ConfusionMatrixDisplay(confusion_matrix=cm,display_labels=[\"Non Spam\",\"Spam\"])\n",
    "disp.plot()\n",
    "plt.show()\n",
    "\n",
    "print(\"Testing Results\")\n",
    "yhat_probs = model3.predict(test_pad_seq, verbose=0)\n",
    "pred = np.where(yhat_probs>0.5,1,0)\n",
    "matrix = classification_report(Y_test, pred,digits =4)\n",
    "print(matrix)\n",
    "\n",
    "cm = confusion_matrix(Y_test, pred)\n",
    "disp = ConfusionMatrixDisplay(confusion_matrix=cm,display_labels=[\"Non Spam\",\"Spam\"])\n",
    "disp.plot()\n",
    "plt.show()\n",
    "\n",
    "model3.save(\"bi-lstm2.h5\")"
   ]
  }
 ],
 "metadata": {
  "colab": {
   "provenance": []
  },
  "kaggle": {
   "accelerator": "none",
   "dataSources": [
    {
     "datasetId": 4086989,
     "sourceId": 7092051,
     "sourceType": "datasetVersion"
    }
   ],
   "dockerImageVersionId": 30588,
   "isGpuEnabled": false,
   "isInternetEnabled": true,
   "language": "python",
   "sourceType": "notebook"
  },
  "kernelspec": {
   "display_name": "Python 3 (ipykernel)",
   "language": "python",
   "name": "python3"
  },
  "language_info": {
   "codemirror_mode": {
    "name": "ipython",
    "version": 3
   },
   "file_extension": ".py",
   "mimetype": "text/x-python",
   "name": "python",
   "nbconvert_exporter": "python",
   "pygments_lexer": "ipython3",
   "version": "3.11.5"
  },
  "papermill": {
   "default_parameters": {},
   "duration": 440.748829,
   "end_time": "2023-12-04T20:32:46.714651",
   "environment_variables": {},
   "exception": null,
   "input_path": "__notebook__.ipynb",
   "output_path": "__notebook__.ipynb",
   "parameters": {},
   "start_time": "2023-12-04T20:25:25.965822",
   "version": "2.4.0"
  }
 },
 "nbformat": 4,
 "nbformat_minor": 5
}
