{
 "cells": [
  {
   "cell_type": "markdown",
   "id": "badb0e94",
   "metadata": {},
   "source": [
    "### Deep Learning Based Results"
   ]
  },
  {
   "cell_type": "code",
   "execution_count": 1,
   "id": "5a05bb4e",
   "metadata": {},
   "outputs": [],
   "source": [
    "\n",
    "from tensorflow.keras.callbacks import EarlyStopping\n",
    "from tensorflow.keras.models import Sequential\n",
    "from tensorflow.keras.layers import Embedding, GlobalAveragePooling1D, Dense, Dropout, LSTM, Bidirectional\n",
    "from bs4 import BeautifulSoup\n",
    "from tensorflow import keras\n",
    "import numpy as np\n",
    "from sklearn.metrics import confusion_matrix, ConfusionMatrixDisplay\n",
    "from matplotlib import pyplot as plt\n",
    "n_samples = 100\n"
   ]
  },
  {
   "cell_type": "code",
   "execution_count": 2,
   "id": "91b93ac5",
   "metadata": {},
   "outputs": [
    {
     "name": "stdout",
     "output_type": "stream",
     "text": [
      "Requirement already satisfied: clean-text in d:\\anaconda\\lib\\site-packages (0.6.0)\n",
      "Requirement already satisfied: emoji<2.0.0,>=1.0.0 in d:\\anaconda\\lib\\site-packages (from clean-text) (1.7.0)\n",
      "Requirement already satisfied: ftfy<7.0,>=6.0 in d:\\anaconda\\lib\\site-packages (from clean-text) (6.1.3)\n",
      "Requirement already satisfied: wcwidth<0.3.0,>=0.2.12 in d:\\anaconda\\lib\\site-packages (from ftfy<7.0,>=6.0->clean-text) (0.2.12)\n"
     ]
    }
   ],
   "source": [
    "!pip install clean-text"
   ]
  },
  {
   "cell_type": "code",
   "execution_count": 3,
   "id": "107fda80",
   "metadata": {},
   "outputs": [],
   "source": [
    "import pandas as pd"
   ]
  },
  {
   "cell_type": "code",
   "execution_count": 4,
   "id": "17fa003a",
   "metadata": {},
   "outputs": [],
   "source": [
    "df = pd.read_csv(\"preprocessed_tweets.csv\").drop([\"index\"],axis=1)\n",
    "df[\"Preprocessed_tweets\"] = df[\"Preprocessed_tweets\"].apply(lambda x : str(x))"
   ]
  },
  {
   "cell_type": "code",
   "execution_count": 5,
   "id": "7c9fbc39",
   "metadata": {},
   "outputs": [
    {
     "data": {
      "text/html": [
       "<div>\n",
       "<style scoped>\n",
       "    .dataframe tbody tr th:only-of-type {\n",
       "        vertical-align: middle;\n",
       "    }\n",
       "\n",
       "    .dataframe tbody tr th {\n",
       "        vertical-align: top;\n",
       "    }\n",
       "\n",
       "    .dataframe thead th {\n",
       "        text-align: right;\n",
       "    }\n",
       "</style>\n",
       "<table border=\"1\" class=\"dataframe\">\n",
       "  <thead>\n",
       "    <tr style=\"text-align: right;\">\n",
       "      <th></th>\n",
       "      <th>Tweet</th>\n",
       "      <th>Type</th>\n",
       "      <th>Preprocessed_tweets</th>\n",
       "    </tr>\n",
       "  </thead>\n",
       "  <tbody>\n",
       "    <tr>\n",
       "      <th>0</th>\n",
       "      <td>It's the everything else that's complicated. #...</td>\n",
       "      <td>0</td>\n",
       "      <td>everything else complicated pesummit</td>\n",
       "    </tr>\n",
       "    <tr>\n",
       "      <th>1</th>\n",
       "      <td>Eren sent a glare towards Mikasa then nodded a...</td>\n",
       "      <td>0</td>\n",
       "      <td>eren sent glare towards mikasa nodded stood go...</td>\n",
       "    </tr>\n",
       "    <tr>\n",
       "      <th>2</th>\n",
       "      <td>I posted a new photo to Facebook http://fb.me/...</td>\n",
       "      <td>0</td>\n",
       "      <td>posted new photo facebook</td>\n",
       "    </tr>\n",
       "    <tr>\n",
       "      <th>3</th>\n",
       "      <td>#jan Idiot Chelsea Handler Diagnoses Trump Wit...</td>\n",
       "      <td>1</td>\n",
       "      <td>jan idiot chelsea handler diagnoses trump disease</td>\n",
       "    </tr>\n",
       "    <tr>\n",
       "      <th>4</th>\n",
       "      <td>Pedophile Anthony Weiner is TERRIFIED of Getti...</td>\n",
       "      <td>1</td>\n",
       "      <td>pedophile anthony weiner terrified getting bea...</td>\n",
       "    </tr>\n",
       "    <tr>\n",
       "      <th>...</th>\n",
       "      <td>...</td>\n",
       "      <td>...</td>\n",
       "      <td>...</td>\n",
       "    </tr>\n",
       "    <tr>\n",
       "      <th>11782</th>\n",
       "      <td>11:11 meet harry</td>\n",
       "      <td>0</td>\n",
       "      <td>meet harry</td>\n",
       "    </tr>\n",
       "    <tr>\n",
       "      <th>11783</th>\n",
       "      <td>If BBC Food disappears the loss of knowledge w...</td>\n",
       "      <td>0</td>\n",
       "      <td>bbc food disappears loss knowledge catastrophic</td>\n",
       "    </tr>\n",
       "    <tr>\n",
       "      <th>11784</th>\n",
       "      <td>Look What Liberals Did to This Historic Monume...</td>\n",
       "      <td>1</td>\n",
       "      <td>look liberals historic monument arizona</td>\n",
       "    </tr>\n",
       "    <tr>\n",
       "      <th>11785</th>\n",
       "      <td>I uploaded a new track, \"Everyday Lite 1\", on ...</td>\n",
       "      <td>0</td>\n",
       "      <td>uploaded new track everyday lite spreaker lite...</td>\n",
       "    </tr>\n",
       "    <tr>\n",
       "      <th>11786</th>\n",
       "      <td>Trump should be declared the victor by about 9...</td>\n",
       "      <td>1</td>\n",
       "      <td>trump declared victor tonight based exit poll ...</td>\n",
       "    </tr>\n",
       "  </tbody>\n",
       "</table>\n",
       "<p>11787 rows × 3 columns</p>\n",
       "</div>"
      ],
      "text/plain": [
       "                                                   Tweet  Type  \\\n",
       "0      It's the everything else that's complicated. #...     0   \n",
       "1      Eren sent a glare towards Mikasa then nodded a...     0   \n",
       "2      I posted a new photo to Facebook http://fb.me/...     0   \n",
       "3      #jan Idiot Chelsea Handler Diagnoses Trump Wit...     1   \n",
       "4      Pedophile Anthony Weiner is TERRIFIED of Getti...     1   \n",
       "...                                                  ...   ...   \n",
       "11782                                   11:11 meet harry     0   \n",
       "11783  If BBC Food disappears the loss of knowledge w...     0   \n",
       "11784  Look What Liberals Did to This Historic Monume...     1   \n",
       "11785  I uploaded a new track, \"Everyday Lite 1\", on ...     0   \n",
       "11786  Trump should be declared the victor by about 9...     1   \n",
       "\n",
       "                                     Preprocessed_tweets  \n",
       "0                   everything else complicated pesummit  \n",
       "1      eren sent glare towards mikasa nodded stood go...  \n",
       "2                              posted new photo facebook  \n",
       "3      jan idiot chelsea handler diagnoses trump disease  \n",
       "4      pedophile anthony weiner terrified getting bea...  \n",
       "...                                                  ...  \n",
       "11782                                         meet harry  \n",
       "11783    bbc food disappears loss knowledge catastrophic  \n",
       "11784            look liberals historic monument arizona  \n",
       "11785  uploaded new track everyday lite spreaker lite...  \n",
       "11786  trump declared victor tonight based exit poll ...  \n",
       "\n",
       "[11787 rows x 3 columns]"
      ]
     },
     "execution_count": 5,
     "metadata": {},
     "output_type": "execute_result"
    }
   ],
   "source": [
    "df"
   ]
  },
  {
   "cell_type": "code",
   "execution_count": 6,
   "id": "78bf0919",
   "metadata": {},
   "outputs": [],
   "source": [
    "from sklearn.model_selection import train_test_split\n",
    "# X_train, X_test, y_train, y_test = train_test_split(df[\"Tweet\"], df[\"Type\"], test_size=0.1, random_state=42)"
   ]
  },
  {
   "cell_type": "code",
   "execution_count": 7,
   "id": "11cd6809",
   "metadata": {},
   "outputs": [],
   "source": [
    "df_test,df_train= train_test_split(df, test_size=0.2, random_state=42)"
   ]
  },
  {
   "cell_type": "code",
   "execution_count": 8,
   "id": "a9a5e7eb",
   "metadata": {},
   "outputs": [
    {
     "data": {
      "text/plain": [
       "array([[\"Espargaro: Ducati have the upper hand: Monster Tech 3 Yamaha's Pol Espargaro says Ducati's outright speed at ... http://bit.ly/1OBKNl3\",\n",
       "        0,\n",
       "        'espargaro ducati upper hand monster tech yamaha pol espargaro says ducati outright speed'],\n",
       "       ['3 teens from Brooklyn charged in raping of woman, 33', 1,\n",
       "        'teens brooklyn charged raping woman'],\n",
       "       ['Everything is finished and ready to go. Now to pack!#colordashfabric https://www.instagram.com/p/BFg0ZkYIz_s/',\n",
       "        0, 'everything finished ready go pack colordashfabric'],\n",
       "       ...,\n",
       "       ['Trump transition team is a mess. No surprise there.  https://t.co/tRz92ktc9i',\n",
       "        1, 'trump transition team mess surprise'],\n",
       "       ['Ted Cruzs evangelical problem #GOPDebate #StopTheGOP', 1,\n",
       "        'ted cruzs evangelical problem gopdebate stopthegop'],\n",
       "       [\"The mainstream media doesn't hold Hillary accountable for her deliberate destruction of her emails. The American people will. https://t.co/Qcf6anqXfS\",\n",
       "        1,\n",
       "        'mainstream media hold hillary accountable deliberate destruction emails american people']],\n",
       "      dtype=object)"
      ]
     },
     "execution_count": 8,
     "metadata": {},
     "output_type": "execute_result"
    }
   ],
   "source": [
    "df_train.values"
   ]
  },
  {
   "cell_type": "code",
   "execution_count": 9,
   "id": "5c586dd0",
   "metadata": {},
   "outputs": [
    {
     "data": {
      "text/html": [
       "<div>\n",
       "<style scoped>\n",
       "    .dataframe tbody tr th:only-of-type {\n",
       "        vertical-align: middle;\n",
       "    }\n",
       "\n",
       "    .dataframe tbody tr th {\n",
       "        vertical-align: top;\n",
       "    }\n",
       "\n",
       "    .dataframe thead th {\n",
       "        text-align: right;\n",
       "    }\n",
       "</style>\n",
       "<table border=\"1\" class=\"dataframe\">\n",
       "  <thead>\n",
       "    <tr style=\"text-align: right;\">\n",
       "      <th></th>\n",
       "      <th>Tweet</th>\n",
       "      <th>Type</th>\n",
       "      <th>Preprocessed_tweets</th>\n",
       "    </tr>\n",
       "  </thead>\n",
       "  <tbody>\n",
       "    <tr>\n",
       "      <th>0</th>\n",
       "      <td>Ricky- aka zesty, we go way back to the old da...</td>\n",
       "      <td>0</td>\n",
       "      <td>ricky aka zesty go way back old days also prog...</td>\n",
       "    </tr>\n",
       "    <tr>\n",
       "      <th>1</th>\n",
       "      <td>@Cher bad news fr #CDAIslamabad plz come in ac...</td>\n",
       "      <td>0</td>\n",
       "      <td>cher bad news fr cdaislamabad plz come action ...</td>\n",
       "    </tr>\n",
       "    <tr>\n",
       "      <th>2</th>\n",
       "      <td>IS THAT KIHYUN AND HYUNGWON</td>\n",
       "      <td>0</td>\n",
       "      <td>kihyun hyungwon</td>\n",
       "    </tr>\n",
       "    <tr>\n",
       "      <th>3</th>\n",
       "      <td>It's just certain shit you don't let slide and...</td>\n",
       "      <td>0</td>\n",
       "      <td>certain shit let slide mfs need get checked re...</td>\n",
       "    </tr>\n",
       "    <tr>\n",
       "      <th>4</th>\n",
       "      <td>My mama know I don't like her husband , idk wh...</td>\n",
       "      <td>0</td>\n",
       "      <td>mama know like husband idk got damn car take home</td>\n",
       "    </tr>\n",
       "  </tbody>\n",
       "</table>\n",
       "</div>"
      ],
      "text/plain": [
       "                                               Tweet  Type  \\\n",
       "0  Ricky- aka zesty, we go way back to the old da...     0   \n",
       "1  @Cher bad news fr #CDAIslamabad plz come in ac...     0   \n",
       "2                        IS THAT KIHYUN AND HYUNGWON     0   \n",
       "3  It's just certain shit you don't let slide and...     0   \n",
       "4  My mama know I don't like her husband , idk wh...     0   \n",
       "\n",
       "                                 Preprocessed_tweets  \n",
       "0  ricky aka zesty go way back old days also prog...  \n",
       "1  cher bad news fr cdaislamabad plz come action ...  \n",
       "2                                    kihyun hyungwon  \n",
       "3  certain shit let slide mfs need get checked re...  \n",
       "4  mama know like husband idk got damn car take home  "
      ]
     },
     "execution_count": 9,
     "metadata": {},
     "output_type": "execute_result"
    }
   ],
   "source": [
    "# Calculate the proportions of each category\n",
    "category_proportions = df_test['Type'].value_counts(normalize=True)\n",
    "\n",
    "# Calculate the number of samples to select from each category\n",
    "\n",
    "samples_per_category = (category_proportions * n_samples).round().astype(int)\n",
    "\n",
    "# Perform stratified sampling\n",
    "data = df_test.groupby('Type').apply(lambda x: x.sample(samples_per_category[x.name]))\n",
    "\n",
    "# Reset the index of the resulting DataFrame\n",
    "data.reset_index(drop=True, inplace=True)\n",
    "\n",
    "data.head(5)"
   ]
  },
  {
   "cell_type": "code",
   "execution_count": 10,
   "id": "87239811",
   "metadata": {},
   "outputs": [],
   "source": [
    "from tqdm import tqdm\n",
    "import time "
   ]
  },
  {
   "cell_type": "code",
   "execution_count": 11,
   "id": "d53189f0",
   "metadata": {},
   "outputs": [],
   "source": [
    "d = {1:\"Spam\",0:\"Not Spam\"}\n",
    "data[\"Ground Truth\"]  = data[\"Type\"]\n",
    "data[\"Type\"] = data[\"Type\"].apply(lambda x : d[x])"
   ]
  },
  {
   "cell_type": "code",
   "execution_count": 12,
   "id": "d006dc0c",
   "metadata": {},
   "outputs": [],
   "source": [
    "def output_extraction(x):\n",
    "    if \"Not Spam\" in x :\n",
    "        return 0\n",
    "    else:\n",
    "        return 1"
   ]
  },
  {
   "cell_type": "code",
   "execution_count": 13,
   "id": "99adccff",
   "metadata": {},
   "outputs": [],
   "source": [
    "from helper_module import *\n",
    "import pickle\n",
    "import tensorflow as tf\n",
    "from tensorflow.keras.preprocessing.text import Tokenizer\n",
    "from tensorflow.keras.preprocessing.sequence import pad_sequences\n",
    "from sklearn.metrics import classification_report\n",
    "\n",
    "from sklearn.model_selection import train_test_split\n",
    "X_train, X_test, Y_train, Y_test = train_test_split(df[\"Preprocessed_tweets\"],df[\"Type\"], test_size=0.2, random_state=None)\n",
    "\n",
    "preprocessed_text = X_train.values\n",
    "tokenizer = Tokenizer(char_level=False, oov_token = \"oov\") \n",
    "tokenizer.fit_on_texts(preprocessed_text)"
   ]
  },
  {
   "cell_type": "code",
   "execution_count": 14,
   "id": "d46c278b",
   "metadata": {},
   "outputs": [
    {
     "data": {
      "text/plain": [
       "10006    congress corrupt engineering coup using taxpay...\n",
       "6924     chase ends multi vehicle crash dan ryan expres...\n",
       "4961        bet primary browser internet explorer netscape\n",
       "4132      checked western union mplusplaces download today\n",
       "2436     tropical storm hermine approaches florida hawa...\n",
       "                               ...                        \n",
       "3086     congratulations mathesonmichael election msp f...\n",
       "6280     topnews three indicted black man death georgia...\n",
       "7824     way better believe voter suppression works nor...\n",
       "8588                   complete ios developer course weeks\n",
       "1345                 adapting innovation usta winning play\n",
       "Name: Preprocessed_tweets, Length: 9429, dtype: object"
      ]
     },
     "execution_count": 14,
     "metadata": {},
     "output_type": "execute_result"
    }
   ],
   "source": [
    "X_train"
   ]
  },
  {
   "cell_type": "code",
   "execution_count": 15,
   "id": "f6c19924",
   "metadata": {},
   "outputs": [
    {
     "data": {
      "text/plain": [
       "Index(['Tweet', 'Type', 'Preprocessed_tweets'], dtype='object')"
      ]
     },
     "execution_count": 15,
     "metadata": {},
     "output_type": "execute_result"
    }
   ],
   "source": [
    "df.columns"
   ]
  },
  {
   "cell_type": "markdown",
   "id": "fd18bb7b",
   "metadata": {},
   "source": [
    "# ##LSTM"
   ]
  },
  {
   "cell_type": "code",
   "execution_count": 16,
   "id": "f916b5ee",
   "metadata": {},
   "outputs": [
    {
     "name": "stdout",
     "output_type": "stream",
     "text": [
      "4/4 [==============================] - 1s 14ms/step\n",
      "              precision    recall  f1-score   support\n",
      "\n",
      "    Non Spam       0.65      0.63      0.64        51\n",
      "        Spam       0.63      0.65      0.64        49\n",
      "\n",
      "    accuracy                           0.64       100\n",
      "   macro avg       0.64      0.64      0.64       100\n",
      "weighted avg       0.64      0.64      0.64       100\n",
      "\n"
     ]
    },
    {
     "data": {
      "text/plain": [
       "<Figure size 500x500 with 0 Axes>"
      ]
     },
     "metadata": {},
     "output_type": "display_data"
    },
    {
     "data": {
      "image/png": "[encoded data removed]",
      "text/plain": [
       "<Figure size 640x480 with 2 Axes>"
      ]
     },
     "metadata": {},
     "output_type": "display_data"
    }
   ],
   "source": [
    "target_names = [\"Non Spam\",\"Spam\"]\n",
    "model = keras.models.load_model('lstm1.h5')\n",
    "preprocessed_text = data[\"Preprocessed_tweets\"].values\n",
    "\n",
    "vocab_size = 18956\n",
    "\n",
    "max_len = 20\n",
    "\n",
    "token_sent = tokenizer.texts_to_sequences(preprocessed_text)\n",
    "seq = pad_sequences (token_sent, maxlen = 20, padding = \"pre\", truncating = \"post\"  )\n",
    "c = model.predict(seq)\n",
    "\n",
    "data[\"Lstm-predicted\"] = np.where(c>0.5,1,0)\n",
    "\n",
    "print(classification_report(data[\"Ground Truth\"].values, data[\"Lstm-predicted\"].values, target_names=target_names))\n",
    "\n",
    "\n",
    "plt.figure(figsize=(5,5))\n",
    "cm = confusion_matrix(data[\"Ground Truth\"].values, data[\"Lstm-predicted\"].values)\n",
    "disp = ConfusionMatrixDisplay(confusion_matrix=cm)\n",
    "disp.plot()\n",
    "plt.show()\n",
    "\n",
    "             "
   ]
  },
  {
   "cell_type": "code",
   "execution_count": 17,
   "id": "b686133f",
   "metadata": {},
   "outputs": [
    {
     "data": {
      "text/plain": [
       "array([[    0,     0,     0, ...,     1,  2326, 16733],\n",
       "       [    0,     0,     0, ...,   730,  2769,  5070],\n",
       "       [    0,     0,     0, ...,     0, 14691,  1391],\n",
       "       ...,\n",
       "       [    0,     0,     0, ...,  1059,   125,     3],\n",
       "       [    0,     0,     0, ...,    80,  3036,   596],\n",
       "       [    0,     0,     0, ...,  8415,    20,     3]])"
      ]
     },
     "execution_count": 17,
     "metadata": {},
     "output_type": "execute_result"
    }
   ],
   "source": [
    "seq"
   ]
  },
  {
   "cell_type": "code",
   "execution_count": 18,
   "id": "21fd71a0",
   "metadata": {},
   "outputs": [
    {
     "name": "stdout",
     "output_type": "stream",
     "text": [
      "4/4 [==============================] - 1s 33ms/step\n",
      "              precision    recall  f1-score   support\n",
      "\n",
      "    Non Spam       0.64      0.63      0.63        51\n",
      "        Spam       0.62      0.63      0.63        49\n",
      "\n",
      "    accuracy                           0.63       100\n",
      "   macro avg       0.63      0.63      0.63       100\n",
      "weighted avg       0.63      0.63      0.63       100\n",
      "\n"
     ]
    },
    {
     "data": {
      "text/plain": [
       "<Figure size 500x500 with 0 Axes>"
      ]
     },
     "metadata": {},
     "output_type": "display_data"
    },
    {
     "data": {
      "image/png": "[encoded data removed]",
      "text/plain": [
       "<Figure size 640x480 with 2 Axes>"
      ]
     },
     "metadata": {},
     "output_type": "display_data"
    }
   ],
   "source": [
    "\n",
    "model = keras.models.load_model('lstm2.h5')\n",
    "preprocessed_text = data[\"Preprocessed_tweets\"].values\n",
    "\n",
    "vocab_size = len(tokenizer.word_index)+1\n",
    "\n",
    "max_len = 20\n",
    "\n",
    "token_sent = tokenizer.texts_to_sequences(preprocessed_text)\n",
    "seq = pad_sequences (token_sent, maxlen = 20, padding = \"pre\", truncating = \"post\"  )\n",
    "c = model.predict(seq)\n",
    "\n",
    "data[\"Lstm-predicted\"] = np.where(c>0.5,1,0)\n",
    "\n",
    "print(classification_report(data[\"Ground Truth\"].values, data[\"Lstm-predicted\"].values, target_names=target_names))\n",
    "\n",
    "\n",
    "plt.figure(figsize=(5,5))\n",
    "cm = confusion_matrix(data[\"Ground Truth\"].values, data[\"Lstm-predicted\"].values)\n",
    "disp = ConfusionMatrixDisplay(confusion_matrix=cm)\n",
    "disp.plot()\n",
    "plt.show()\n",
    "\n",
    "             "
   ]
  },
  {
   "cell_type": "markdown",
   "id": "9fb128d0",
   "metadata": {},
   "source": [
    "### BI LSTM"
   ]
  },
  {
   "cell_type": "code",
   "execution_count": 19,
   "id": "a72a8697",
   "metadata": {},
   "outputs": [
    {
     "name": "stdout",
     "output_type": "stream",
     "text": [
      "4/4 [==============================] - 2s 22ms/step\n",
      "              precision    recall  f1-score   support\n",
      "\n",
      "    Non Spam       0.61      0.59      0.60        51\n",
      "        Spam       0.59      0.61      0.60        49\n",
      "\n",
      "    accuracy                           0.60       100\n",
      "   macro avg       0.60      0.60      0.60       100\n",
      "weighted avg       0.60      0.60      0.60       100\n",
      "\n"
     ]
    },
    {
     "data": {
      "text/plain": [
       "<Figure size 500x500 with 0 Axes>"
      ]
     },
     "metadata": {},
     "output_type": "display_data"
    },
    {
     "data": {
      "image/png": "[encoded data removed]",
      "text/plain": [
       "<Figure size 640x480 with 2 Axes>"
      ]
     },
     "metadata": {},
     "output_type": "display_data"
    }
   ],
   "source": [
    "model = keras.models.load_model('bi-lstm1.h5')\n",
    "preprocessed_text = data[\"Preprocessed_tweets\"].values\n",
    "\n",
    "vocab_size = len(tokenizer.word_index)+1\n",
    "\n",
    "max_len = 20\n",
    "\n",
    "token_sent = tokenizer.texts_to_sequences(preprocessed_text)\n",
    "seq = pad_sequences (token_sent, maxlen = 20, padding = \"pre\", truncating = \"post\"  )\n",
    "c = model.predict(seq)\n",
    "\n",
    "data[\"Bi-Lstm-predicted\"] = np.where(c>0.5,1,0)\n",
    "\n",
    "print(classification_report(data[\"Ground Truth\"].values, data[\"Bi-Lstm-predicted\"].values, target_names=target_names))\n",
    "\n",
    "plt.figure(figsize=(5,5))\n",
    "cm = confusion_matrix(data[\"Ground Truth\"].values, data[\"Bi-Lstm-predicted\"].values)\n",
    "disp = ConfusionMatrixDisplay(confusion_matrix=cm)\n",
    "disp.plot()\n",
    "plt.show()\n",
    "\n",
    "             "
   ]
  },
  {
   "cell_type": "code",
   "execution_count": 20,
   "id": "8500a5e8",
   "metadata": {},
   "outputs": [
    {
     "name": "stdout",
     "output_type": "stream",
     "text": [
      "4/4 [==============================] - 2s 73ms/step\n",
      "              precision    recall  f1-score   support\n",
      "\n",
      "    Non Spam       0.58      0.55      0.57        51\n",
      "        Spam       0.56      0.59      0.57        49\n",
      "\n",
      "    accuracy                           0.57       100\n",
      "   macro avg       0.57      0.57      0.57       100\n",
      "weighted avg       0.57      0.57      0.57       100\n",
      "\n"
     ]
    },
    {
     "data": {
      "text/plain": [
       "<Figure size 500x500 with 0 Axes>"
      ]
     },
     "metadata": {},
     "output_type": "display_data"
    },
    {
     "data": {
      "image/png": "[encoded data removed]",
      "text/plain": [
       "<Figure size 640x480 with 2 Axes>"
      ]
     },
     "metadata": {},
     "output_type": "display_data"
    }
   ],
   "source": [
    "model = keras.models.load_model('bi-lstm2.h5')\n",
    "preprocessed_text = data[\"Preprocessed_tweets\"].values\n",
    "\n",
    "vocab_size = len(tokenizer.word_index)+1\n",
    "\n",
    "max_len = 20\n",
    "\n",
    "token_sent = tokenizer.texts_to_sequences(preprocessed_text)\n",
    "seq = pad_sequences (token_sent, maxlen = 20, padding = \"pre\", truncating = \"post\"  )\n",
    "c = model.predict(seq)\n",
    "\n",
    "data[\"Bi-Lstm-predicted\"] = np.where(c>0.5,1,0)\n",
    "\n",
    "print(classification_report(data[\"Ground Truth\"].values, data[\"Bi-Lstm-predicted\"].values, target_names=target_names))\n",
    "\n",
    "plt.figure(figsize=(5,5))\n",
    "cm = confusion_matrix(data[\"Ground Truth\"].values, data[\"Bi-Lstm-predicted\"].values)\n",
    "disp = ConfusionMatrixDisplay(confusion_matrix=cm)\n",
    "disp.plot()\n",
    "plt.show()\n",
    "\n",
    "             "
   ]
  }
 ],
 "metadata": {
  "kernelspec": {
   "display_name": "Python 3 (ipykernel)",
   "language": "python",
   "name": "python3"
  },
  "language_info": {
   "codemirror_mode": {
    "name": "ipython",
    "version": 3
   },
   "file_extension": ".py",
   "mimetype": "text/x-python",
   "name": "python",
   "nbconvert_exporter": "python",
   "pygments_lexer": "ipython3",
   "version": "3.11.5"
  }
 },
 "nbformat": 4,
 "nbformat_minor": 5
}
